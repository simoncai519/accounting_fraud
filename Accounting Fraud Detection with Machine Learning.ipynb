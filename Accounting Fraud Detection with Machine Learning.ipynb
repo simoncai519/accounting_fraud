{
 "cells": [
  {
   "cell_type": "markdown",
   "metadata": {},
   "source": [
    "Author: Wenguang Cai"
   ]
  },
  {
   "cell_type": "code",
   "execution_count": 185,
   "metadata": {},
   "outputs": [],
   "source": [
    "import pandas as pd\n",
    "import numpy as np\n",
    "from datetime import date, timedelta, datetime\n",
    "import matplotlib.pyplot as plt\n",
    "from sklearn.preprocessing import StandardScaler\n",
    "from sklearn.decomposition import PCA\n",
    "from sklearn.metrics import confusion_matrix\n",
    "from sklearn.metrics import roc_auc_score\n",
    "from sklearn.model_selection import GridSearchCV\n",
    "import sklearn.tree as tree\n",
    "from sklearn.tree import DecisionTreeClassifier\n",
    "from sklearn.ensemble import AdaBoostClassifier, RandomForestClassifier\n",
    "from sklearn.svm import SVC\n",
    "from sklearn.metrics import roc_curve\n",
    "from sklearn.metrics import roc_auc_score\n",
    "from sklearn.pipeline import make_pipeline\n",
    "import urllib\n",
    "from sqlalchemy import create_engine\n",
    "from IPython.display import display, clear_output"
   ]
  },
  {
   "cell_type": "markdown",
   "metadata": {},
   "source": [
    "# Data Preparation"
   ]
  },
  {
   "cell_type": "code",
   "execution_count": 3,
   "metadata": {},
   "outputs": [],
   "source": [
    "data = pd.read_csv('attributes.csv', index_col=0)"
   ]
  },
  {
   "cell_type": "code",
   "execution_count": 4,
   "metadata": {},
   "outputs": [],
   "source": [
    "data = data.sort_values(by='report_period')\n",
    "X = data.iloc[:,2:-1]\n",
    "y = data.iloc[:,-1]\n",
    "\n",
    "train = list(X.index[data['report_period']<20171231])\n",
    "valid = list(X.index[data['report_period']==20171231])\n",
    "test = list(X.index[data['report_period']>20171231])\n",
    "\n",
    "np.random.seed(0)\n",
    "np.random.shuffle(train)\n",
    "np.random.shuffle(valid)\n",
    "np.random.shuffle(test)\n",
    "\n",
    "acc = data.loc[train].loc[:,['acc_firm','FRAUD']]\n",
    "acc_rank = acc.groupby('acc_firm').describe()['FRAUD'].sort_values(by='mean', ascending=False)\n",
    "bad_acc = acc_rank.index[:10]\n",
    "X['bad_acc'] = X['acc_firm'].apply(lambda x: x in bad_acc)\n",
    "ind = data.loc[train].loc[:,['industry','FRAUD']]\n",
    "ind_rank = ind.groupby('industry').describe()['FRAUD'].sort_values(by='mean', ascending=False)\n",
    "bad_ind = ind_rank.index[:10]\n",
    "X['bad_ind'] = X['industry'].apply(lambda x: x in bad_ind)\n",
    "X=X.drop(columns =['acc_firm','industry','NET_CASH_FLOWS_FNC_ACTyoy'])\n",
    "\n",
    "X = X.replace(np.inf,np.nan)\n",
    "X = X.replace(-np.inf,np.nan)\n",
    "X = X.fillna(X.mean())\n",
    "\n",
    "X_train = X.loc[train,]\n",
    "X_valid = X.loc[valid,]\n",
    "X_test = X.loc[test,]\n",
    "y_train = y.loc[train,]\n",
    "y_valid = y.loc[valid,]\n",
    "y_test = y.loc[test,]\n",
    "X_train_valid = X.loc[list(valid)+list(valid)]\n",
    "y_train_valid = y.loc[list(valid)+list(valid)]"
   ]
  },
  {
   "cell_type": "code",
   "execution_count": 6,
   "metadata": {},
   "outputs": [
    {
     "data": {
      "text/html": [
       "<div>\n",
       "<style scoped>\n",
       "    .dataframe tbody tr th:only-of-type {\n",
       "        vertical-align: middle;\n",
       "    }\n",
       "\n",
       "    .dataframe tbody tr th {\n",
       "        vertical-align: top;\n",
       "    }\n",
       "\n",
       "    .dataframe thead tr th {\n",
       "        text-align: left;\n",
       "    }\n",
       "\n",
       "    .dataframe thead tr:last-of-type th {\n",
       "        text-align: right;\n",
       "    }\n",
       "</style>\n",
       "<table border=\"1\" class=\"dataframe\">\n",
       "  <thead>\n",
       "    <tr>\n",
       "      <th></th>\n",
       "      <th colspan=\"8\" halign=\"left\">TOT_LIAB</th>\n",
       "      <th colspan=\"2\" halign=\"left\">TOT_ASSETS</th>\n",
       "      <th>...</th>\n",
       "      <th colspan=\"2\" halign=\"left\">holder_trade_count</th>\n",
       "      <th colspan=\"8\" halign=\"left\">FRAUD</th>\n",
       "    </tr>\n",
       "    <tr>\n",
       "      <th></th>\n",
       "      <th>count</th>\n",
       "      <th>mean</th>\n",
       "      <th>std</th>\n",
       "      <th>min</th>\n",
       "      <th>25%</th>\n",
       "      <th>50%</th>\n",
       "      <th>75%</th>\n",
       "      <th>max</th>\n",
       "      <th>count</th>\n",
       "      <th>mean</th>\n",
       "      <th>...</th>\n",
       "      <th>75%</th>\n",
       "      <th>max</th>\n",
       "      <th>count</th>\n",
       "      <th>mean</th>\n",
       "      <th>std</th>\n",
       "      <th>min</th>\n",
       "      <th>25%</th>\n",
       "      <th>50%</th>\n",
       "      <th>75%</th>\n",
       "      <th>max</th>\n",
       "    </tr>\n",
       "    <tr>\n",
       "      <th>report_period</th>\n",
       "      <th></th>\n",
       "      <th></th>\n",
       "      <th></th>\n",
       "      <th></th>\n",
       "      <th></th>\n",
       "      <th></th>\n",
       "      <th></th>\n",
       "      <th></th>\n",
       "      <th></th>\n",
       "      <th></th>\n",
       "      <th></th>\n",
       "      <th></th>\n",
       "      <th></th>\n",
       "      <th></th>\n",
       "      <th></th>\n",
       "      <th></th>\n",
       "      <th></th>\n",
       "      <th></th>\n",
       "      <th></th>\n",
       "      <th></th>\n",
       "      <th></th>\n",
       "    </tr>\n",
       "  </thead>\n",
       "  <tbody>\n",
       "    <tr>\n",
       "      <th>20141231</th>\n",
       "      <td>23.0</td>\n",
       "      <td>4.752894e+09</td>\n",
       "      <td>1.167848e+10</td>\n",
       "      <td>9.536904e+07</td>\n",
       "      <td>5.782611e+08</td>\n",
       "      <td>9.288909e+08</td>\n",
       "      <td>3.235162e+09</td>\n",
       "      <td>5.548174e+10</td>\n",
       "      <td>23.0</td>\n",
       "      <td>6.718930e+09</td>\n",
       "      <td>...</td>\n",
       "      <td>1.00</td>\n",
       "      <td>17.0</td>\n",
       "      <td>23.0</td>\n",
       "      <td>1.0</td>\n",
       "      <td>0.0</td>\n",
       "      <td>1.0</td>\n",
       "      <td>1.0</td>\n",
       "      <td>1.0</td>\n",
       "      <td>1.0</td>\n",
       "      <td>1.0</td>\n",
       "    </tr>\n",
       "    <tr>\n",
       "      <th>20151231</th>\n",
       "      <td>17.0</td>\n",
       "      <td>2.092370e+09</td>\n",
       "      <td>2.096935e+09</td>\n",
       "      <td>4.427383e+06</td>\n",
       "      <td>1.911639e+08</td>\n",
       "      <td>1.804020e+09</td>\n",
       "      <td>2.991881e+09</td>\n",
       "      <td>7.248570e+09</td>\n",
       "      <td>17.0</td>\n",
       "      <td>4.135218e+09</td>\n",
       "      <td>...</td>\n",
       "      <td>4.00</td>\n",
       "      <td>11.0</td>\n",
       "      <td>17.0</td>\n",
       "      <td>1.0</td>\n",
       "      <td>0.0</td>\n",
       "      <td>1.0</td>\n",
       "      <td>1.0</td>\n",
       "      <td>1.0</td>\n",
       "      <td>1.0</td>\n",
       "      <td>1.0</td>\n",
       "    </tr>\n",
       "    <tr>\n",
       "      <th>20161231</th>\n",
       "      <td>27.0</td>\n",
       "      <td>5.122936e+09</td>\n",
       "      <td>7.251772e+09</td>\n",
       "      <td>1.143819e+08</td>\n",
       "      <td>8.727523e+08</td>\n",
       "      <td>2.533321e+09</td>\n",
       "      <td>5.365919e+09</td>\n",
       "      <td>2.879726e+10</td>\n",
       "      <td>27.0</td>\n",
       "      <td>8.966536e+09</td>\n",
       "      <td>...</td>\n",
       "      <td>5.50</td>\n",
       "      <td>21.0</td>\n",
       "      <td>27.0</td>\n",
       "      <td>1.0</td>\n",
       "      <td>0.0</td>\n",
       "      <td>1.0</td>\n",
       "      <td>1.0</td>\n",
       "      <td>1.0</td>\n",
       "      <td>1.0</td>\n",
       "      <td>1.0</td>\n",
       "    </tr>\n",
       "    <tr>\n",
       "      <th>20171231</th>\n",
       "      <td>44.0</td>\n",
       "      <td>5.186781e+09</td>\n",
       "      <td>6.576741e+09</td>\n",
       "      <td>5.105575e+07</td>\n",
       "      <td>6.984658e+08</td>\n",
       "      <td>2.915345e+09</td>\n",
       "      <td>6.083749e+09</td>\n",
       "      <td>2.783560e+10</td>\n",
       "      <td>44.0</td>\n",
       "      <td>9.155877e+09</td>\n",
       "      <td>...</td>\n",
       "      <td>7.25</td>\n",
       "      <td>60.0</td>\n",
       "      <td>44.0</td>\n",
       "      <td>1.0</td>\n",
       "      <td>0.0</td>\n",
       "      <td>1.0</td>\n",
       "      <td>1.0</td>\n",
       "      <td>1.0</td>\n",
       "      <td>1.0</td>\n",
       "      <td>1.0</td>\n",
       "    </tr>\n",
       "    <tr>\n",
       "      <th>20181231</th>\n",
       "      <td>32.0</td>\n",
       "      <td>4.467506e+09</td>\n",
       "      <td>6.556868e+09</td>\n",
       "      <td>4.612771e+07</td>\n",
       "      <td>1.172956e+09</td>\n",
       "      <td>2.442526e+09</td>\n",
       "      <td>3.834375e+09</td>\n",
       "      <td>2.926126e+10</td>\n",
       "      <td>32.0</td>\n",
       "      <td>7.767222e+09</td>\n",
       "      <td>...</td>\n",
       "      <td>8.00</td>\n",
       "      <td>53.0</td>\n",
       "      <td>32.0</td>\n",
       "      <td>1.0</td>\n",
       "      <td>0.0</td>\n",
       "      <td>1.0</td>\n",
       "      <td>1.0</td>\n",
       "      <td>1.0</td>\n",
       "      <td>1.0</td>\n",
       "      <td>1.0</td>\n",
       "    </tr>\n",
       "    <tr>\n",
       "      <th>20191231</th>\n",
       "      <td>4.0</td>\n",
       "      <td>1.279391e+09</td>\n",
       "      <td>3.376296e+08</td>\n",
       "      <td>9.666740e+08</td>\n",
       "      <td>1.049117e+09</td>\n",
       "      <td>1.213205e+09</td>\n",
       "      <td>1.443480e+09</td>\n",
       "      <td>1.724481e+09</td>\n",
       "      <td>4.0</td>\n",
       "      <td>3.719452e+09</td>\n",
       "      <td>...</td>\n",
       "      <td>5.75</td>\n",
       "      <td>23.0</td>\n",
       "      <td>4.0</td>\n",
       "      <td>1.0</td>\n",
       "      <td>0.0</td>\n",
       "      <td>1.0</td>\n",
       "      <td>1.0</td>\n",
       "      <td>1.0</td>\n",
       "      <td>1.0</td>\n",
       "      <td>1.0</td>\n",
       "    </tr>\n",
       "  </tbody>\n",
       "</table>\n",
       "<p>6 rows × 808 columns</p>\n",
       "</div>"
      ],
      "text/plain": [
       "              TOT_LIAB                                            \\\n",
       "                 count          mean           std           min   \n",
       "report_period                                                      \n",
       "20141231          23.0  4.752894e+09  1.167848e+10  9.536904e+07   \n",
       "20151231          17.0  2.092370e+09  2.096935e+09  4.427383e+06   \n",
       "20161231          27.0  5.122936e+09  7.251772e+09  1.143819e+08   \n",
       "20171231          44.0  5.186781e+09  6.576741e+09  5.105575e+07   \n",
       "20181231          32.0  4.467506e+09  6.556868e+09  4.612771e+07   \n",
       "20191231           4.0  1.279391e+09  3.376296e+08  9.666740e+08   \n",
       "\n",
       "                                                                       \\\n",
       "                        25%           50%           75%           max   \n",
       "report_period                                                           \n",
       "20141231       5.782611e+08  9.288909e+08  3.235162e+09  5.548174e+10   \n",
       "20151231       1.911639e+08  1.804020e+09  2.991881e+09  7.248570e+09   \n",
       "20161231       8.727523e+08  2.533321e+09  5.365919e+09  2.879726e+10   \n",
       "20171231       6.984658e+08  2.915345e+09  6.083749e+09  2.783560e+10   \n",
       "20181231       1.172956e+09  2.442526e+09  3.834375e+09  2.926126e+10   \n",
       "20191231       1.049117e+09  1.213205e+09  1.443480e+09  1.724481e+09   \n",
       "\n",
       "              TOT_ASSETS                ... holder_trade_count       FRAUD  \\\n",
       "                   count          mean  ...                75%   max count   \n",
       "report_period                           ...                                  \n",
       "20141231            23.0  6.718930e+09  ...               1.00  17.0  23.0   \n",
       "20151231            17.0  4.135218e+09  ...               4.00  11.0  17.0   \n",
       "20161231            27.0  8.966536e+09  ...               5.50  21.0  27.0   \n",
       "20171231            44.0  9.155877e+09  ...               7.25  60.0  44.0   \n",
       "20181231            32.0  7.767222e+09  ...               8.00  53.0  32.0   \n",
       "20191231             4.0  3.719452e+09  ...               5.75  23.0   4.0   \n",
       "\n",
       "                                                  \n",
       "              mean  std  min  25%  50%  75%  max  \n",
       "report_period                                     \n",
       "20141231       1.0  0.0  1.0  1.0  1.0  1.0  1.0  \n",
       "20151231       1.0  0.0  1.0  1.0  1.0  1.0  1.0  \n",
       "20161231       1.0  0.0  1.0  1.0  1.0  1.0  1.0  \n",
       "20171231       1.0  0.0  1.0  1.0  1.0  1.0  1.0  \n",
       "20181231       1.0  0.0  1.0  1.0  1.0  1.0  1.0  \n",
       "20191231       1.0  0.0  1.0  1.0  1.0  1.0  1.0  \n",
       "\n",
       "[6 rows x 808 columns]"
      ]
     },
     "execution_count": 6,
     "metadata": {},
     "output_type": "execute_result"
    }
   ],
   "source": [
    "data[data['FRAUD']==1].groupby('report_period').describe()"
   ]
  },
  {
   "cell_type": "markdown",
   "metadata": {},
   "source": [
    "# Training and Evaluation"
   ]
  },
  {
   "cell_type": "code",
   "execution_count": 9,
   "metadata": {},
   "outputs": [],
   "source": [
    "def confusion_matrix_function(tot_validation_y, tot_predicted_y, normalize = 'true'):\n",
    "    conf_matrix = confusion_matrix(tot_validation_y, tot_predicted_y, normalize =normalize)\n",
    "    \n",
    "    conf_matrix_table = pd.DataFrame(data = conf_matrix).transpose()\n",
    "    conf_matrix_table.index   = ['Predicted Non-default', 'Predicted Default']\n",
    "    conf_matrix_table.columns = ['Actual Non-default'   , 'Actual Default'   ]\n",
    "    \n",
    "    return conf_matrix_table"
   ]
  },
  {
   "cell_type": "code",
   "execution_count": 186,
   "metadata": {},
   "outputs": [],
   "source": [
    "\n",
    "def do_roc_auc(train_x_roc, train_y_roc, validation_x_roc, validation_y_roc,\n",
    "               classifier=None, roc_frequency=50, fit=True, predict_proba='none', verbose=False):\n",
    "\n",
    "    if predict_proba=='none':\n",
    "        # Fit model on training set\n",
    "        if fit==True:\n",
    "            classifier.fit(train_x_roc, train_y_roc)\n",
    "        # Test on test set, get prob\n",
    "        predict_proba = classifier.predict_proba(validation_x_roc) # prob of 0, prob of 1\n",
    "    prob_df = pd.DataFrame(data = predict_proba, columns = ['0_prob','1_prob'])\n",
    "    \n",
    "    false_positive_list, true_positive_list, threshold_set = roc_curve(validation_y_roc, prob_df['1_prob'])\n",
    "\n",
    "    if verbose:\n",
    "        # print(true_positive_list)\n",
    "        # print(false_positive_list)\n",
    "        # Compute AUC\n",
    "        auc_score = roc_auc_score(validation_y_roc, prob_df['1_prob'])\n",
    "        # Plot ROC-AUC curve\n",
    "        plt.figure()\n",
    "        lw = 2\n",
    "        plt.plot(false_positive_list, true_positive_list, color='darkorange',\n",
    "                 lw=lw, label='ROC curve (AUC = %0.2f)' % auc_score)\n",
    "        plt.plot([0, 1], [0, 1], color='navy', lw=lw, linestyle='--')\n",
    "        plt.xlim([0.0, 1.0])\n",
    "        plt.ylim([0.0, 1.05])\n",
    "        plt.xlabel('False Positive Rate')\n",
    "        plt.ylabel('True Positive Rate')\n",
    "        plt.title('ROC Curve')\n",
    "        plt.legend(loc=\"lower right\")\n",
    "        plt.show()\n",
    "\n",
    "    tp_fp_diff = np.array(true_positive_list) - np.array(false_positive_list)\n",
    "    best_thre = threshold_set[tp_fp_diff.argmax()]\n",
    "    print('best threshold: ', best_thre)\n",
    "    return best_thre"
   ]
  },
  {
   "cell_type": "code",
   "execution_count": 187,
   "metadata": {},
   "outputs": [],
   "source": [
    "def evaluate(clf):\n",
    "    thre = do_roc_auc(classifier=clf,\n",
    "           train_x_roc=X_train, train_y_roc=y_train, \n",
    "           validation_x_roc=X_valid, validation_y_roc=y_valid)\n",
    "    do_roc_auc(classifier=clf,\n",
    "           train_x_roc=X_train_valid, train_y_roc=y_train_valid, \n",
    "           validation_x_roc=X_test, validation_y_roc=y_test, verbose = True)\n",
    "    predict = clf.predict_proba(X_test)\n",
    "    predict_df = pd.DataFrame(data = predict, columns = ['0_prob','1_prob'])\n",
    "    display(confusion_matrix_function(y_test, predict_df['1_prob'] > thre, normalize =None))\n",
    "    return thre"
   ]
  },
  {
   "cell_type": "markdown",
   "metadata": {},
   "source": [
    "## Adaboost"
   ]
  },
  {
   "cell_type": "code",
   "execution_count": 157,
   "metadata": {},
   "outputs": [
    {
     "name": "stdout",
     "output_type": "stream",
     "text": [
      "Fitting 5 folds for each of 25 candidates, totalling 125 fits\n"
     ]
    },
    {
     "name": "stderr",
     "output_type": "stream",
     "text": [
      "[Parallel(n_jobs=-1)]: Using backend LokyBackend with 8 concurrent workers.\n",
      "[Parallel(n_jobs=-1)]: Done  34 tasks      | elapsed:  2.2min\n",
      "[Parallel(n_jobs=-1)]: Done 125 out of 125 | elapsed:  7.7min finished\n"
     ]
    },
    {
     "data": {
      "text/plain": [
       "GridSearchCV(cv=None, error_score=nan,\n",
       "             estimator=AdaBoostClassifier(algorithm='SAMME.R',\n",
       "                                          base_estimator=DecisionTreeClassifier(ccp_alpha=0.0,\n",
       "                                                                                class_weight='balanced',\n",
       "                                                                                criterion='gini',\n",
       "                                                                                max_depth=1,\n",
       "                                                                                max_features=None,\n",
       "                                                                                max_leaf_nodes=None,\n",
       "                                                                                min_impurity_decrease=0.0,\n",
       "                                                                                min_impurity_split=None,\n",
       "                                                                                min_samples_leaf=1,\n",
       "                                                                                min_samples_split=2,\n",
       "                                                                                min_weight_fraction_leaf=0.0,\n",
       "                                                                                presort='deprecated',\n",
       "                                                                                random_state=None,\n",
       "                                                                                splitter='best'),\n",
       "                                          learning_rate=1.0, n_estimators=50,\n",
       "                                          random_state=0),\n",
       "             iid='deprecated', n_jobs=-1,\n",
       "             param_grid={'learning_rate': [0.5, 0.6, 0.7, 0.8, 0.9],\n",
       "                         'n_estimators': [150, 175, 200, 225, 250]},\n",
       "             pre_dispatch='2*n_jobs', refit=True, return_train_score=False,\n",
       "             scoring='roc_auc', verbose=1)"
      ]
     },
     "execution_count": 157,
     "metadata": {},
     "output_type": "execute_result"
    }
   ],
   "source": [
    "# adaboost\n",
    "ab_parameters = {'learning_rate':([0.5,0.6,0.7,0.8,0.9]), 'n_estimators':[150,175,200,225,250]}\n",
    "ab = AdaBoostClassifier(base_estimator=DecisionTreeClassifier(max_depth=1, class_weight='balanced'),\n",
    "                        random_state=0)\n",
    "ab_gs = GridSearchCV(estimator=ab, param_grid=ab_parameters, scoring='roc_auc', \n",
    "                     n_jobs=-1, verbose=1)\n",
    "ab_gs.fit(X_train, y_train)"
   ]
  },
  {
   "cell_type": "code",
   "execution_count": 164,
   "metadata": {},
   "outputs": [
    {
     "data": {
      "text/plain": [
       "AdaBoostClassifier(algorithm='SAMME.R',\n",
       "                   base_estimator=DecisionTreeClassifier(ccp_alpha=0.0,\n",
       "                                                         class_weight='balanced',\n",
       "                                                         criterion='gini',\n",
       "                                                         max_depth=1,\n",
       "                                                         max_features=None,\n",
       "                                                         max_leaf_nodes=None,\n",
       "                                                         min_impurity_decrease=0.0,\n",
       "                                                         min_impurity_split=None,\n",
       "                                                         min_samples_leaf=1,\n",
       "                                                         min_samples_split=2,\n",
       "                                                         min_weight_fraction_leaf=0.0,\n",
       "                                                         presort='deprecated',\n",
       "                                                         random_state=None,\n",
       "                                                         splitter='best'),\n",
       "                   learning_rate=0.8, n_estimators=150, random_state=0)"
      ]
     },
     "execution_count": 164,
     "metadata": {},
     "output_type": "execute_result"
    }
   ],
   "source": [
    "ab_gs.best_estimator_"
   ]
  },
  {
   "cell_type": "code",
   "execution_count": 188,
   "metadata": {},
   "outputs": [
    {
     "name": "stdout",
     "output_type": "stream",
     "text": [
      "best threshold:  0.49105393891406623\n"
     ]
    },
    {
     "data": {
      "image/png": "[encoded data removed]",
      "text/plain": [
       "<Figure size 432x288 with 1 Axes>"
      ]
     },
     "metadata": {
      "needs_background": "light"
     },
     "output_type": "display_data"
    },
    {
     "name": "stdout",
     "output_type": "stream",
     "text": [
      "best threshold:  0.4852453936771883\n"
     ]
    },
    {
     "data": {
      "text/html": [
       "<div>\n",
       "<style scoped>\n",
       "    .dataframe tbody tr th:only-of-type {\n",
       "        vertical-align: middle;\n",
       "    }\n",
       "\n",
       "    .dataframe tbody tr th {\n",
       "        vertical-align: top;\n",
       "    }\n",
       "\n",
       "    .dataframe thead th {\n",
       "        text-align: right;\n",
       "    }\n",
       "</style>\n",
       "<table border=\"1\" class=\"dataframe\">\n",
       "  <thead>\n",
       "    <tr style=\"text-align: right;\">\n",
       "      <th></th>\n",
       "      <th>Actual Non-default</th>\n",
       "      <th>Actual Default</th>\n",
       "    </tr>\n",
       "  </thead>\n",
       "  <tbody>\n",
       "    <tr>\n",
       "      <th>Predicted Non-default</th>\n",
       "      <td>6489</td>\n",
       "      <td>27</td>\n",
       "    </tr>\n",
       "    <tr>\n",
       "      <th>Predicted Default</th>\n",
       "      <td>523</td>\n",
       "      <td>9</td>\n",
       "    </tr>\n",
       "  </tbody>\n",
       "</table>\n",
       "</div>"
      ],
      "text/plain": [
       "                       Actual Non-default  Actual Default\n",
       "Predicted Non-default                6489              27\n",
       "Predicted Default                     523               9"
      ]
     },
     "metadata": {},
     "output_type": "display_data"
    },
    {
     "data": {
      "text/plain": [
       "0.49105393891406623"
      ]
     },
     "execution_count": 188,
     "metadata": {},
     "output_type": "execute_result"
    }
   ],
   "source": [
    "evaluate(ab_gs.best_estimator_)"
   ]
  },
  {
   "cell_type": "markdown",
   "metadata": {},
   "source": [
    "## Random Forest"
   ]
  },
  {
   "cell_type": "code",
   "execution_count": 167,
   "metadata": {},
   "outputs": [
    {
     "name": "stdout",
     "output_type": "stream",
     "text": [
      "Fitting 5 folds for each of 9 candidates, totalling 45 fits\n"
     ]
    },
    {
     "name": "stderr",
     "output_type": "stream",
     "text": [
      "[Parallel(n_jobs=-1)]: Using backend LokyBackend with 8 concurrent workers.\n",
      "[Parallel(n_jobs=-1)]: Done  25 tasks      | elapsed:   11.4s\n",
      "[Parallel(n_jobs=-1)]: Done  45 out of  45 | elapsed:   19.0s finished\n"
     ]
    },
    {
     "data": {
      "text/plain": [
       "GridSearchCV(cv=None, error_score=nan,\n",
       "             estimator=RandomForestClassifier(bootstrap=True, ccp_alpha=0.0,\n",
       "                                              class_weight='balanced',\n",
       "                                              criterion='gini', max_depth=None,\n",
       "                                              max_features='auto',\n",
       "                                              max_leaf_nodes=None,\n",
       "                                              max_samples=None,\n",
       "                                              min_impurity_decrease=0.0,\n",
       "                                              min_impurity_split=None,\n",
       "                                              min_samples_leaf=1,\n",
       "                                              min_samples_split=2,\n",
       "                                              min_weight_fraction_leaf=0.0,\n",
       "                                              n_estimators=200, n_jobs=None,\n",
       "                                              oob_score=False, random_state=0,\n",
       "                                              verbose=0, warm_start=False),\n",
       "             iid='deprecated', n_jobs=-1,\n",
       "             param_grid={'max_depth': [1, 2, 3],\n",
       "                         'min_samples_leaf': [0.03, 0.04, 0.05]},\n",
       "             pre_dispatch='2*n_jobs', refit=True, return_train_score=False,\n",
       "             scoring='roc_auc', verbose=2)"
      ]
     },
     "execution_count": 167,
     "metadata": {},
     "output_type": "execute_result"
    }
   ],
   "source": [
    "# random forest\n",
    "parameters = {'max_depth':([1,2,3]), 'min_samples_leaf':[0.03,0.04,0.05]}\n",
    "rf = RandomForestClassifier(class_weight='balanced', random_state=0, n_estimators=200)\n",
    "rf_gs = GridSearchCV(estimator=rf, param_grid=parameters, scoring='roc_auc',\n",
    "                 n_jobs=-1, verbose=2)\n",
    "rf_gs.fit(X_train, y_train)"
   ]
  },
  {
   "cell_type": "code",
   "execution_count": 168,
   "metadata": {},
   "outputs": [
    {
     "data": {
      "text/plain": [
       "RandomForestClassifier(bootstrap=True, ccp_alpha=0.0, class_weight='balanced',\n",
       "                       criterion='gini', max_depth=3, max_features='auto',\n",
       "                       max_leaf_nodes=None, max_samples=None,\n",
       "                       min_impurity_decrease=0.0, min_impurity_split=None,\n",
       "                       min_samples_leaf=0.03, min_samples_split=2,\n",
       "                       min_weight_fraction_leaf=0.0, n_estimators=200,\n",
       "                       n_jobs=None, oob_score=False, random_state=0, verbose=0,\n",
       "                       warm_start=False)"
      ]
     },
     "execution_count": 168,
     "metadata": {},
     "output_type": "execute_result"
    }
   ],
   "source": [
    "rf_gs.best_estimator_"
   ]
  },
  {
   "cell_type": "code",
   "execution_count": 189,
   "metadata": {},
   "outputs": [
    {
     "name": "stdout",
     "output_type": "stream",
     "text": [
      "best threshold:  0.4787083269914108\n"
     ]
    },
    {
     "data": {
      "image/png": "[encoded data removed]",
      "text/plain": [
       "<Figure size 432x288 with 1 Axes>"
      ]
     },
     "metadata": {
      "needs_background": "light"
     },
     "output_type": "display_data"
    },
    {
     "name": "stdout",
     "output_type": "stream",
     "text": [
      "best threshold:  0.3967899199506043\n"
     ]
    },
    {
     "data": {
      "text/html": [
       "<div>\n",
       "<style scoped>\n",
       "    .dataframe tbody tr th:only-of-type {\n",
       "        vertical-align: middle;\n",
       "    }\n",
       "\n",
       "    .dataframe tbody tr th {\n",
       "        vertical-align: top;\n",
       "    }\n",
       "\n",
       "    .dataframe thead th {\n",
       "        text-align: right;\n",
       "    }\n",
       "</style>\n",
       "<table border=\"1\" class=\"dataframe\">\n",
       "  <thead>\n",
       "    <tr style=\"text-align: right;\">\n",
       "      <th></th>\n",
       "      <th>Actual Non-default</th>\n",
       "      <th>Actual Default</th>\n",
       "    </tr>\n",
       "  </thead>\n",
       "  <tbody>\n",
       "    <tr>\n",
       "      <th>Predicted Non-default</th>\n",
       "      <td>6074</td>\n",
       "      <td>18</td>\n",
       "    </tr>\n",
       "    <tr>\n",
       "      <th>Predicted Default</th>\n",
       "      <td>938</td>\n",
       "      <td>18</td>\n",
       "    </tr>\n",
       "  </tbody>\n",
       "</table>\n",
       "</div>"
      ],
      "text/plain": [
       "                       Actual Non-default  Actual Default\n",
       "Predicted Non-default                6074              18\n",
       "Predicted Default                     938              18"
      ]
     },
     "metadata": {},
     "output_type": "display_data"
    }
   ],
   "source": [
    "rf_thre = evaluate(rf_gs.best_estimator_)"
   ]
  },
  {
   "cell_type": "code",
   "execution_count": 230,
   "metadata": {},
   "outputs": [
    {
     "data": {
      "image/png": "[encoded data removed]",
      "text/plain": [
       "<Figure size 432x288 with 1 Axes>"
      ]
     },
     "metadata": {
      "needs_background": "light"
     },
     "output_type": "display_data"
    },
    {
     "name": "stdout",
     "output_type": "stream",
     "text": [
      "best threshold:  0.02\n"
     ]
    },
    {
     "data": {
      "text/plain": [
       "0.02"
      ]
     },
     "execution_count": 230,
     "metadata": {},
     "output_type": "execute_result"
    }
   ],
   "source": [
    "do_roc_auc(classifier=rf,\n",
    "           train_x_roc=X_train, train_y_roc=y_train,\n",
    "           validation_x_roc=X_valid, validation_y_roc=y_valid, fit=True, verbose = True)"
   ]
  },
  {
   "cell_type": "code",
   "execution_count": 170,
   "metadata": {},
   "outputs": [
    {
     "data": {
      "text/html": [
       "<div>\n",
       "<style scoped>\n",
       "    .dataframe tbody tr th:only-of-type {\n",
       "        vertical-align: middle;\n",
       "    }\n",
       "\n",
       "    .dataframe tbody tr th {\n",
       "        vertical-align: top;\n",
       "    }\n",
       "\n",
       "    .dataframe thead th {\n",
       "        text-align: right;\n",
       "    }\n",
       "</style>\n",
       "<table border=\"1\" class=\"dataframe\">\n",
       "  <thead>\n",
       "    <tr style=\"text-align: right;\">\n",
       "      <th></th>\n",
       "      <th>feature</th>\n",
       "      <th>importance</th>\n",
       "    </tr>\n",
       "  </thead>\n",
       "  <tbody>\n",
       "    <tr>\n",
       "      <th>32</th>\n",
       "      <td>LESS_NON_OPER_EXPyoy</td>\n",
       "      <td>0.062487</td>\n",
       "    </tr>\n",
       "    <tr>\n",
       "      <th>64</th>\n",
       "      <td>rev_to_pro</td>\n",
       "      <td>0.053156</td>\n",
       "    </tr>\n",
       "    <tr>\n",
       "      <th>71</th>\n",
       "      <td>otherrev_to_curasset</td>\n",
       "      <td>0.042947</td>\n",
       "    </tr>\n",
       "    <tr>\n",
       "      <th>95</th>\n",
       "      <td>std_240d</td>\n",
       "      <td>0.040602</td>\n",
       "    </tr>\n",
       "    <tr>\n",
       "      <th>65</th>\n",
       "      <td>outrev_to_pro</td>\n",
       "      <td>0.035114</td>\n",
       "    </tr>\n",
       "    <tr>\n",
       "      <th>66</th>\n",
       "      <td>acctrev_ratio</td>\n",
       "      <td>0.033132</td>\n",
       "    </tr>\n",
       "    <tr>\n",
       "      <th>68</th>\n",
       "      <td>money_to_pro</td>\n",
       "      <td>0.032202</td>\n",
       "    </tr>\n",
       "    <tr>\n",
       "      <th>70</th>\n",
       "      <td>prepay_to_curasset</td>\n",
       "      <td>0.027952</td>\n",
       "    </tr>\n",
       "    <tr>\n",
       "      <th>79</th>\n",
       "      <td>salemaoli_ratio_yoy_diff</td>\n",
       "      <td>0.026180</td>\n",
       "    </tr>\n",
       "    <tr>\n",
       "      <th>55</th>\n",
       "      <td>maoli_ratio</td>\n",
       "      <td>0.025463</td>\n",
       "    </tr>\n",
       "  </tbody>\n",
       "</table>\n",
       "</div>"
      ],
      "text/plain": [
       "                     feature  importance\n",
       "32      LESS_NON_OPER_EXPyoy    0.062487\n",
       "64                rev_to_pro    0.053156\n",
       "71      otherrev_to_curasset    0.042947\n",
       "95                  std_240d    0.040602\n",
       "65             outrev_to_pro    0.035114\n",
       "66             acctrev_ratio    0.033132\n",
       "68              money_to_pro    0.032202\n",
       "70        prepay_to_curasset    0.027952\n",
       "79  salemaoli_ratio_yoy_diff    0.026180\n",
       "55               maoli_ratio    0.025463"
      ]
     },
     "execution_count": 170,
     "metadata": {},
     "output_type": "execute_result"
    }
   ],
   "source": [
    "# feature importance\n",
    "fi = pd.DataFrame(data={\n",
    "    'feature':X.columns,\n",
    "    'importance':rf_gs.best_estimator_.feature_importances_})\n",
    "fi = fi.sort_values(by='importance',ascending=False)\n",
    "fi.iloc[:10]"
   ]
  },
  {
   "cell_type": "code",
   "execution_count": 133,
   "metadata": {},
   "outputs": [],
   "source": [
    "for i in range(5):\n",
    "    tree.export_graphviz(rf_gs.best_estimator_.estimators_[i],\n",
    "                         out_file=\"tree%d.dot\"%i,\n",
    "                         feature_names = X.columns, \n",
    "                         # class_names=cn,\n",
    "                         filled = True)"
   ]
  },
  {
   "cell_type": "code",
   "execution_count": 134,
   "metadata": {},
   "outputs": [],
   "source": [
    "!dot -Tpng tree0.dot -o tree0.png\n",
    "!dot -Tpng tree1.dot -o tree1.png\n",
    "!dot -Tpng tree2.dot -o tree2.png\n",
    "!dot -Tpng tree3.dot -o tree3.png\n",
    "!dot -Tpng tree4.dot -o tree4.png"
   ]
  },
  {
   "cell_type": "markdown",
   "metadata": {},
   "source": [
    "## SVM"
   ]
  },
  {
   "cell_type": "code",
   "execution_count": 173,
   "metadata": {},
   "outputs": [
    {
     "name": "stdout",
     "output_type": "stream",
     "text": [
      "Fitting 5 folds for each of 15 candidates, totalling 75 fits\n"
     ]
    },
    {
     "name": "stderr",
     "output_type": "stream",
     "text": [
      "[Parallel(n_jobs=-1)]: Using backend LokyBackend with 8 concurrent workers.\n",
      "[Parallel(n_jobs=-1)]: Done  25 tasks      | elapsed:   21.3s\n",
      "[Parallel(n_jobs=-1)]: Done  75 out of  75 | elapsed:   50.8s finished\n"
     ]
    },
    {
     "data": {
      "text/plain": [
       "GridSearchCV(cv=None, error_score=nan,\n",
       "             estimator=Pipeline(memory=None,\n",
       "                                steps=[('standardscaler',\n",
       "                                        StandardScaler(copy=True,\n",
       "                                                       with_mean=True,\n",
       "                                                       with_std=True)),\n",
       "                                       ('svc',\n",
       "                                        SVC(C=1.0, break_ties=False,\n",
       "                                            cache_size=200,\n",
       "                                            class_weight='balanced', coef0=0.0,\n",
       "                                            decision_function_shape='ovr',\n",
       "                                            degree=3, gamma='auto',\n",
       "                                            kernel='rbf', max_iter=-1,\n",
       "                                            probability=True, random_state=0,\n",
       "                                            shrinking=True, tol=0.001,\n",
       "                                            verbose=False))],\n",
       "                                verbose=False),\n",
       "             iid='deprecated', n_jobs=-1,\n",
       "             param_grid={'svc__C': array([  31.6227766 ,   74.98942093,  177.827941  ,  421.69650343,\n",
       "       1000.        ]),\n",
       "                         'svc__degree': [2, 3, 4]},\n",
       "             pre_dispatch='2*n_jobs', refit=True, return_train_score=False,\n",
       "             scoring='roc_auc', verbose=2)"
      ]
     },
     "execution_count": 173,
     "metadata": {},
     "output_type": "execute_result"
    }
   ],
   "source": [
    "# svm\n",
    "parameters = {'svc__C':np.logspace(1.5,3,5),'svc__degree':[2,3,4]}\n",
    "svc = make_pipeline(StandardScaler(), \n",
    "                    SVC(class_weight='balanced', gamma='auto', random_state=0, probability=True))\n",
    "svc_gs = GridSearchCV(svc, parameters, n_jobs=-1, verbose=2, scoring='roc_auc')\n",
    "svc_gs.fit(X_train,y_train)"
   ]
  },
  {
   "cell_type": "code",
   "execution_count": 171,
   "metadata": {},
   "outputs": [
    {
     "data": {
      "text/plain": [
       "Pipeline(memory=None,\n",
       "         steps=[('standardscaler',\n",
       "                 StandardScaler(copy=True, with_mean=True, with_std=True)),\n",
       "                ('svc',\n",
       "                 SVC(C=421.6965034285823, break_ties=False, cache_size=200,\n",
       "                     class_weight='balanced', coef0=0.0,\n",
       "                     decision_function_shape='ovr', degree=2, gamma='auto',\n",
       "                     kernel='rbf', max_iter=-1, probability=True,\n",
       "                     random_state=0, shrinking=True, tol=0.001,\n",
       "                     verbose=False))],\n",
       "         verbose=False)"
      ]
     },
     "execution_count": 171,
     "metadata": {},
     "output_type": "execute_result"
    }
   ],
   "source": [
    "svc_gs.best_estimator_"
   ]
  },
  {
   "cell_type": "code",
   "execution_count": 190,
   "metadata": {},
   "outputs": [
    {
     "name": "stdout",
     "output_type": "stream",
     "text": [
      "best threshold:  0.006006893354505292\n"
     ]
    },
    {
     "data": {
      "image/png": "[encoded data removed]",
      "text/plain": [
       "<Figure size 432x288 with 1 Axes>"
      ]
     },
     "metadata": {
      "needs_background": "light"
     },
     "output_type": "display_data"
    },
    {
     "name": "stdout",
     "output_type": "stream",
     "text": [
      "best threshold:  0.0018926271213141042\n"
     ]
    },
    {
     "data": {
      "text/html": [
       "<div>\n",
       "<style scoped>\n",
       "    .dataframe tbody tr th:only-of-type {\n",
       "        vertical-align: middle;\n",
       "    }\n",
       "\n",
       "    .dataframe tbody tr th {\n",
       "        vertical-align: top;\n",
       "    }\n",
       "\n",
       "    .dataframe thead th {\n",
       "        text-align: right;\n",
       "    }\n",
       "</style>\n",
       "<table border=\"1\" class=\"dataframe\">\n",
       "  <thead>\n",
       "    <tr style=\"text-align: right;\">\n",
       "      <th></th>\n",
       "      <th>Actual Non-default</th>\n",
       "      <th>Actual Default</th>\n",
       "    </tr>\n",
       "  </thead>\n",
       "  <tbody>\n",
       "    <tr>\n",
       "      <th>Predicted Non-default</th>\n",
       "      <td>6925</td>\n",
       "      <td>36</td>\n",
       "    </tr>\n",
       "    <tr>\n",
       "      <th>Predicted Default</th>\n",
       "      <td>87</td>\n",
       "      <td>0</td>\n",
       "    </tr>\n",
       "  </tbody>\n",
       "</table>\n",
       "</div>"
      ],
      "text/plain": [
       "                       Actual Non-default  Actual Default\n",
       "Predicted Non-default                6925              36\n",
       "Predicted Default                      87               0"
      ]
     },
     "metadata": {},
     "output_type": "display_data"
    },
    {
     "data": {
      "text/plain": [
       "0.006006893354505292"
      ]
     },
     "execution_count": 190,
     "metadata": {},
     "output_type": "execute_result"
    }
   ],
   "source": [
    "evaluate(svc_gs.best_estimator_)"
   ]
  },
  {
   "cell_type": "markdown",
   "metadata": {},
   "source": [
    "## Neural Network"
   ]
  },
  {
   "cell_type": "code",
   "execution_count": 20,
   "metadata": {},
   "outputs": [],
   "source": [
    "#nn\n",
    "import tensorflow as tf\n",
    "from tensorflow.keras.models import Sequential\n",
    "from tensorflow.keras.layers import Dense, Dropout\n",
    "from tensorflow.keras.regularizers import l2\n",
    "from tensorflow.keras.initializers import he_normal\n",
    "from tensorflow.keras.optimizers import Adam\n",
    "from tensorflow import keras"
   ]
  },
  {
   "cell_type": "code",
   "execution_count": 174,
   "metadata": {},
   "outputs": [],
   "source": [
    "std = StandardScaler()\n",
    "std.fit(X_train)\n",
    "X_train_nn = pd.DataFrame(data = std.transform(X_train), columns=X_train.columns, index = X_train.index)\n",
    "X_valid_nn = pd.DataFrame(data = std.transform(X_valid), columns=X_train.columns, index = X_valid.index)\n",
    "X_train_valid_nn = pd.DataFrame(data = std.transform(X_train_valid), columns=X_train.columns, index = X_train_valid.index)\n",
    "X_test_nn = pd.DataFrame(data = std.transform(X_test), columns=X_train.columns, index = X_test.index)"
   ]
  },
  {
   "cell_type": "code",
   "execution_count": 224,
   "metadata": {},
   "outputs": [
    {
     "name": "stdout",
     "output_type": "stream",
     "text": [
      "WARNING:tensorflow:Falling back from v2 loop because of error: Failed to find data adapter that can handle input: <class 'pandas.core.frame.DataFrame'>, <class 'NoneType'>\n",
      "Train on 7434 samples, validate on 3077 samples\n",
      "Epoch 1/200\n",
      "7434/7434 - 1s - loss: 22.3157 - auc: 0.5113 - val_loss: 21.2850 - val_auc: 0.5385\n",
      "Epoch 2/200\n",
      "7434/7434 - 0s - loss: 17.8924 - auc: 0.5300 - val_loss: 17.5088 - val_auc: 0.5383\n",
      "Epoch 3/200\n",
      "7434/7434 - 0s - loss: 14.3240 - auc: 0.4940 - val_loss: 14.4977 - val_auc: 0.5382\n",
      "Epoch 4/200\n",
      "7434/7434 - 0s - loss: 11.5028 - auc: 0.5988 - val_loss: 12.2682 - val_auc: 0.5379\n",
      "Epoch 5/200\n",
      "7434/7434 - 0s - loss: 9.4459 - auc: 0.5673 - val_loss: 10.5553 - val_auc: 0.5377\n",
      "Epoch 6/200\n",
      "7434/7434 - 0s - loss: 7.8298 - auc: 0.5866 - val_loss: 9.1916 - val_auc: 0.5377\n",
      "Epoch 7/200\n",
      "7434/7434 - 0s - loss: 6.5458 - auc: 0.6354 - val_loss: 20.0168 - val_auc: 0.4511\n",
      "Epoch 8/200\n",
      "7434/7434 - 0s - loss: 5.5812 - auc: 0.6147 - val_loss: 17.1067 - val_auc: 0.4618\n",
      "Epoch 9/200\n",
      "7434/7434 - 0s - loss: 4.8341 - auc: 0.6240 - val_loss: 16.4631 - val_auc: 0.4620\n",
      "Epoch 10/200\n",
      "7434/7434 - 0s - loss: 4.2220 - auc: 0.6465 - val_loss: 15.9325 - val_auc: 0.4625\n",
      "Epoch 11/200\n",
      "7434/7434 - 0s - loss: 3.7287 - auc: 0.5547 - val_loss: 15.5318 - val_auc: 0.4635\n",
      "Epoch 12/200\n",
      "7434/7434 - 0s - loss: 3.3444 - auc: 0.5078 - val_loss: 15.1896 - val_auc: 0.4637\n",
      "Epoch 13/200\n",
      "7434/7434 - 0s - loss: 3.0158 - auc: 0.4984 - val_loss: 14.8961 - val_auc: 0.4627\n",
      "Epoch 14/200\n",
      "7434/7434 - 0s - loss: 2.7350 - auc: 0.5062 - val_loss: 14.6581 - val_auc: 0.4611\n",
      "Epoch 15/200\n",
      "7434/7434 - 0s - loss: 2.5093 - auc: 0.4901 - val_loss: 16.5765 - val_auc: 0.4510\n",
      "Epoch 16/200\n",
      "7434/7434 - 0s - loss: 2.3111 - auc: 0.4685 - val_loss: 16.3931 - val_auc: 0.4516\n",
      "Epoch 17/200\n",
      "7434/7434 - 0s - loss: 2.1329 - auc: 0.4503 - val_loss: 4.3565 - val_auc: 0.5390\n",
      "Epoch 18/200\n",
      "7434/7434 - 0s - loss: 1.9804 - auc: 0.4817 - val_loss: 4.2206 - val_auc: 0.5386\n",
      "Epoch 19/200\n",
      "7434/7434 - 0s - loss: 1.8458 - auc: 0.4439 - val_loss: 4.0954 - val_auc: 0.5385\n",
      "Epoch 20/200\n",
      "7434/7434 - 0s - loss: 1.7203 - auc: 0.5004 - val_loss: 3.9766 - val_auc: 0.5373\n",
      "Epoch 21/200\n",
      "7434/7434 - 0s - loss: 1.6060 - auc: 0.5006 - val_loss: 3.8759 - val_auc: 0.5381\n",
      "Epoch 22/200\n",
      "7434/7434 - 0s - loss: 1.5066 - auc: 0.5414 - val_loss: 15.6546 - val_auc: 0.4510\n",
      "Epoch 23/200\n",
      "7434/7434 - 0s - loss: 1.4126 - auc: 0.5186 - val_loss: 15.5646 - val_auc: 0.4519\n",
      "Epoch 24/200\n",
      "7434/7434 - 0s - loss: 1.3241 - auc: 0.5479 - val_loss: 13.3619 - val_auc: 0.4623\n",
      "Epoch 25/200\n",
      "7434/7434 - 0s - loss: 1.2467 - auc: 0.5566 - val_loss: 13.2881 - val_auc: 0.4626\n",
      "Epoch 26/200\n",
      "7434/7434 - 0s - loss: 1.1740 - auc: 0.5599 - val_loss: 13.2177 - val_auc: 0.4622\n",
      "Epoch 27/200\n",
      "7434/7434 - 0s - loss: 1.1048 - auc: 0.5106 - val_loss: 13.1530 - val_auc: 0.4631\n",
      "Epoch 28/200\n",
      "7434/7434 - 0s - loss: 1.0427 - auc: 0.5185 - val_loss: 15.2174 - val_auc: 0.4533\n",
      "Epoch 29/200\n",
      "7434/7434 - 0s - loss: 0.9862 - auc: 0.5386 - val_loss: 15.1613 - val_auc: 0.4531\n",
      "Epoch 30/200\n",
      "7434/7434 - 0s - loss: 0.9322 - auc: 0.6091 - val_loss: 3.2338 - val_auc: 0.5403\n",
      "Epoch 31/200\n",
      "7434/7434 - 0s - loss: 0.8820 - auc: 0.5195 - val_loss: 3.1884 - val_auc: 0.5402\n",
      "Epoch 32/200\n",
      "7434/7434 - 0s - loss: 0.8376 - auc: 0.5304 - val_loss: 3.1452 - val_auc: 0.5390\n",
      "Epoch 33/200\n",
      "7434/7434 - 0s - loss: 0.7951 - auc: 0.5055 - val_loss: 14.9779 - val_auc: 0.4518\n",
      "Epoch 34/200\n",
      "7434/7434 - 0s - loss: 0.7546 - auc: 0.5986 - val_loss: 14.9412 - val_auc: 0.4514\n",
      "Epoch 35/200\n",
      "7434/7434 - 0s - loss: 0.7188 - auc: 0.5798 - val_loss: 14.9070 - val_auc: 0.4520\n",
      "Epoch 36/200\n",
      "7434/7434 - 0s - loss: 0.6850 - auc: 0.5284 - val_loss: 12.7516 - val_auc: 0.4614\n",
      "Epoch 37/200\n",
      "7434/7434 - 0s - loss: 0.6525 - auc: 0.5320 - val_loss: 12.7211 - val_auc: 0.4625\n",
      "Epoch 38/200\n",
      "7434/7434 - 0s - loss: 0.6230 - auc: 0.5395 - val_loss: 2.9426 - val_auc: 0.5393\n",
      "Epoch 39/200\n",
      "7434/7434 - 0s - loss: 0.5959 - auc: 0.5085 - val_loss: 14.7901 - val_auc: 0.4513\n",
      "Epoch 40/200\n",
      "7434/7434 - 0s - loss: 0.5697 - auc: 0.5127 - val_loss: 2.8910 - val_auc: 0.5387\n",
      "Epoch 41/200\n",
      "7434/7434 - 0s - loss: 0.5451 - auc: 0.5551 - val_loss: 12.6202 - val_auc: 0.4616\n",
      "Epoch 42/200\n",
      "7434/7434 - 0s - loss: 0.5232 - auc: 0.5738 - val_loss: 12.5989 - val_auc: 0.4615\n",
      "Epoch 43/200\n",
      "7434/7434 - 0s - loss: 0.5020 - auc: 0.5197 - val_loss: 14.7008 - val_auc: 0.4513\n",
      "Epoch 44/200\n",
      "7434/7434 - 0s - loss: 0.4816 - auc: 0.5415 - val_loss: 14.6819 - val_auc: 0.4514\n",
      "Epoch 45/200\n",
      "7434/7434 - 0s - loss: 0.4635 - auc: 0.5063 - val_loss: 14.6643 - val_auc: 0.4512\n",
      "Epoch 46/200\n",
      "7434/7434 - 0s - loss: 0.4462 - auc: 0.4583 - val_loss: 14.6472 - val_auc: 0.4513\n",
      "Epoch 47/200\n",
      "7434/7434 - 0s - loss: 0.4294 - auc: 0.5210 - val_loss: 14.6312 - val_auc: 0.4513\n",
      "Epoch 48/200\n",
      "7434/7434 - 0s - loss: 0.4141 - auc: 0.5501 - val_loss: 14.6167 - val_auc: 0.4514\n",
      "Epoch 49/200\n",
      "7434/7434 - 0s - loss: 0.3998 - auc: 0.5230 - val_loss: 12.4801 - val_auc: 0.4615\n",
      "Epoch 50/200\n",
      "7434/7434 - 0s - loss: 0.3860 - auc: 0.5199 - val_loss: 14.5891 - val_auc: 0.4513\n",
      "Epoch 51/200\n",
      "7434/7434 - 0s - loss: 0.3728 - auc: 0.4933 - val_loss: 2.7033 - val_auc: 0.5386\n",
      "Epoch 52/200\n",
      "7434/7434 - 0s - loss: 0.3610 - auc: 0.5158 - val_loss: 2.6917 - val_auc: 0.5386\n",
      "Epoch 53/200\n",
      "7434/7434 - 0s - loss: 0.3494 - auc: 0.5016 - val_loss: 2.6804 - val_auc: 0.5387\n",
      "Epoch 54/200\n",
      "7434/7434 - 0s - loss: 0.3382 - auc: 0.4855 - val_loss: 12.4213 - val_auc: 0.4616\n",
      "Epoch 55/200\n",
      "7434/7434 - 0s - loss: 0.3282 - auc: 0.5182 - val_loss: 12.4116 - val_auc: 0.4615\n",
      "Epoch 56/200\n",
      "7434/7434 - 0s - loss: 0.3185 - auc: 0.5143 - val_loss: 14.5247 - val_auc: 0.4514\n",
      "Epoch 57/200\n",
      "7434/7434 - 0s - loss: 0.3090 - auc: 0.5043 - val_loss: 12.3931 - val_auc: 0.4615\n",
      "Epoch 58/200\n",
      "7434/7434 - 0s - loss: 0.3002 - auc: 0.5020 - val_loss: 2.6336 - val_auc: 0.5386\n",
      "Epoch 59/200\n",
      "7434/7434 - 0s - loss: 0.2920 - auc: 0.4942 - val_loss: 0.5029 - val_auc: 0.5487\n",
      "Epoch 60/200\n",
      "7434/7434 - 0s - loss: 0.2840 - auc: 0.5015 - val_loss: 12.3688 - val_auc: 0.4615\n",
      "Epoch 61/200\n",
      "7434/7434 - 0s - loss: 0.2763 - auc: 0.5023 - val_loss: 12.3618 - val_auc: 0.4615\n",
      "Epoch 62/200\n",
      "7434/7434 - 0s - loss: 0.2693 - auc: 0.5019 - val_loss: 2.6036 - val_auc: 0.5387\n",
      "Epoch 63/200\n",
      "7434/7434 - 0s - loss: 0.2624 - auc: 0.5025 - val_loss: 2.5969 - val_auc: 0.5386\n",
      "Epoch 64/200\n",
      "7434/7434 - 0s - loss: 0.2557 - auc: 0.5014 - val_loss: 12.3419 - val_auc: 0.4615\n",
      "Epoch 65/200\n",
      "7434/7434 - 0s - loss: 0.2496 - auc: 0.5010 - val_loss: 12.3360 - val_auc: 0.4615\n",
      "Epoch 66/200\n",
      "7434/7434 - 0s - loss: 0.2437 - auc: 0.5010 - val_loss: 0.4563 - val_auc: 0.5487\n",
      "Epoch 67/200\n",
      "7434/7434 - 0s - loss: 0.2379 - auc: 0.5008 - val_loss: 2.5735 - val_auc: 0.5386\n",
      "Epoch 68/200\n",
      "7434/7434 - 0s - loss: 0.2325 - auc: 0.5004 - val_loss: 2.5684 - val_auc: 0.5386\n",
      "Epoch 69/200\n",
      "7434/7434 - 0s - loss: 0.2274 - auc: 0.5003 - val_loss: 12.3146 - val_auc: 0.4614\n",
      "Epoch 70/200\n",
      "7434/7434 - 0s - loss: 0.2224 - auc: 0.5000 - val_loss: 0.4358 - val_auc: 0.5487\n",
      "Epoch 71/200\n",
      "7434/7434 - 0s - loss: 0.2176 - auc: 0.5001 - val_loss: 2.5540 - val_auc: 0.5386\n",
      "Epoch 72/200\n",
      "7434/7434 - 0s - loss: 0.2132 - auc: 0.5000 - val_loss: 12.3009 - val_auc: 0.4614\n",
      "Epoch 73/200\n",
      "7434/7434 - 0s - loss: 0.2089 - auc: 0.5001 - val_loss: 12.2966 - val_auc: 0.4615\n",
      "Epoch 74/200\n",
      "7434/7434 - 0s - loss: 0.2046 - auc: 0.5000 - val_loss: 2.5414 - val_auc: 0.5386\n",
      "Epoch 75/200\n",
      "7434/7434 - 0s - loss: 0.2007 - auc: 0.5003 - val_loss: 2.5376 - val_auc: 0.5386\n",
      "Epoch 76/200\n",
      "7434/7434 - 0s - loss: 0.1970 - auc: 0.4848 - val_loss: 2.5339 - val_auc: 0.5404\n",
      "Epoch 77/200\n",
      "7434/7434 - 0s - loss: 0.1933 - auc: 0.5227 - val_loss: 12.2815 - val_auc: 0.4620\n",
      "Epoch 78/200\n",
      "7434/7434 - 0s - loss: 0.1898 - auc: 0.4911 - val_loss: 0.4044 - val_auc: 0.5493\n",
      "Epoch 79/200\n",
      "7434/7434 - 0s - loss: 0.1865 - auc: 0.5021 - val_loss: 0.4011 - val_auc: 0.5499\n",
      "Epoch 80/200\n",
      "7434/7434 - 0s - loss: 0.1833 - auc: 0.5403 - val_loss: 0.3979 - val_auc: 0.5493\n",
      "Epoch 81/200\n",
      "7434/7434 - 0s - loss: 0.1802 - auc: 0.4438 - val_loss: 2.5177 - val_auc: 0.5385\n",
      "Epoch 82/200\n",
      "7434/7434 - 0s - loss: 0.1773 - auc: 0.4962 - val_loss: 0.3922 - val_auc: 0.5494\n",
      "Epoch 83/200\n",
      "7434/7434 - 0s - loss: 0.1745 - auc: 0.5432 - val_loss: 12.2633 - val_auc: 0.4621\n",
      "Epoch 84/200\n",
      "7434/7434 - 0s - loss: 0.1717 - auc: 0.5590 - val_loss: 2.5095 - val_auc: 0.5385\n",
      "Epoch 85/200\n",
      "7434/7434 - 0s - loss: 0.1692 - auc: 0.4818 - val_loss: 2.5070 - val_auc: 0.5386\n"
     ]
    },
    {
     "name": "stdout",
     "output_type": "stream",
     "text": [
      "Epoch 86/200\n",
      "7434/7434 - 0s - loss: 0.1668 - auc: 0.5493 - val_loss: 2.5046 - val_auc: 0.5392\n",
      "Epoch 87/200\n",
      "7434/7434 - 0s - loss: 0.1643 - auc: 0.5094 - val_loss: 12.2535 - val_auc: 0.4620\n",
      "Epoch 88/200\n",
      "7434/7434 - 0s - loss: 0.1620 - auc: 0.4981 - val_loss: 12.2513 - val_auc: 0.4624\n",
      "Epoch 89/200\n",
      "7434/7434 - 0s - loss: 0.1599 - auc: 0.4731 - val_loss: 0.3760 - val_auc: 0.5489\n",
      "Epoch 90/200\n",
      "7434/7434 - 0s - loss: 0.1578 - auc: 0.5166 - val_loss: 2.4958 - val_auc: 0.5400\n",
      "Epoch 91/200\n",
      "7434/7434 - 0s - loss: 0.1557 - auc: 0.5287 - val_loss: 12.2452 - val_auc: 0.4624\n",
      "Epoch 92/200\n",
      "7434/7434 - 0s - loss: 0.1538 - auc: 0.5483 - val_loss: 2.4921 - val_auc: 0.5395\n",
      "Epoch 93/200\n",
      "7434/7434 - 0s - loss: 0.1519 - auc: 0.5441 - val_loss: 0.3676 - val_auc: 0.5502\n",
      "Epoch 94/200\n",
      "7434/7434 - 0s - loss: 0.1501 - auc: 0.4550 - val_loss: 12.2398 - val_auc: 0.4630\n",
      "Epoch 95/200\n",
      "7434/7434 - 0s - loss: 0.1484 - auc: 0.4726 - val_loss: 12.2381 - val_auc: 0.4631\n",
      "Epoch 96/200\n",
      "7434/7434 - 0s - loss: 0.1468 - auc: 0.4824 - val_loss: 12.2365 - val_auc: 0.4628\n",
      "Epoch 97/200\n",
      "7434/7434 - 0s - loss: 0.1451 - auc: 0.5405 - val_loss: 2.4836 - val_auc: 0.5396\n",
      "Epoch 98/200\n",
      "7434/7434 - 0s - loss: 0.1436 - auc: 0.5375 - val_loss: 0.3602 - val_auc: 0.5476\n",
      "Epoch 99/200\n",
      "7434/7434 - 0s - loss: 0.1421 - auc: 0.5020 - val_loss: 2.4807 - val_auc: 0.5391\n",
      "Epoch 100/200\n",
      "7434/7434 - 0s - loss: 0.1407 - auc: 0.5048 - val_loss: 12.2305 - val_auc: 0.4621\n",
      "Epoch 101/200\n",
      "7434/7434 - 0s - loss: 0.1393 - auc: 0.5223 - val_loss: 12.2292 - val_auc: 0.4621\n",
      "Epoch 102/200\n",
      "7434/7434 - 0s - loss: 0.1380 - auc: 0.5105 - val_loss: 2.4767 - val_auc: 0.5392\n",
      "Epoch 103/200\n",
      "7434/7434 - 0s - loss: 0.1368 - auc: 0.5234 - val_loss: 2.4754 - val_auc: 0.5385\n",
      "Epoch 104/200\n",
      "7434/7434 - 0s - loss: 0.1355 - auc: 0.5025 - val_loss: 2.4742 - val_auc: 0.5386\n",
      "Epoch 105/200\n",
      "7434/7434 - 0s - loss: 0.1344 - auc: 0.5112 - val_loss: 12.2244 - val_auc: 0.4614\n",
      "Epoch 106/200\n",
      "7434/7434 - 0s - loss: 0.1333 - auc: 0.5042 - val_loss: 12.2084 - val_auc: 0.4616\n",
      "Epoch 107/200\n",
      "7434/7434 - 0s - loss: 0.1321 - auc: 0.5049 - val_loss: 12.2221 - val_auc: 0.4615\n",
      "Epoch 108/200\n",
      "7434/7434 - 0s - loss: 0.1311 - auc: 0.5190 - val_loss: 2.4699 - val_auc: 0.5386\n",
      "Epoch 109/200\n",
      "7434/7434 - 0s - loss: 0.1301 - auc: 0.4891 - val_loss: 2.4689 - val_auc: 0.5385\n",
      "Epoch 110/200\n",
      "7434/7434 - 0s - loss: 0.1291 - auc: 0.5124 - val_loss: 2.4679 - val_auc: 0.5386\n",
      "Epoch 111/200\n",
      "7434/7434 - 0s - loss: 0.1282 - auc: 0.5108 - val_loss: 12.2183 - val_auc: 0.4615\n",
      "Epoch 112/200\n",
      "7434/7434 - 0s - loss: 0.1273 - auc: 0.5411 - val_loss: 2.4662 - val_auc: 0.5385\n",
      "Epoch 113/200\n",
      "7434/7434 - 0s - loss: 0.1264 - auc: 0.4677 - val_loss: 12.2166 - val_auc: 0.4615\n",
      "Epoch 114/200\n",
      "7434/7434 - 0s - loss: 0.1256 - auc: 0.5119 - val_loss: 12.2158 - val_auc: 0.4621\n",
      "Epoch 115/200\n",
      "7434/7434 - 0s - loss: 0.1248 - auc: 0.4723 - val_loss: 0.7704 - val_auc: 0.4610\n",
      "Epoch 116/200\n",
      "7434/7434 - 0s - loss: 0.1240 - auc: 0.5381 - val_loss: 0.3404 - val_auc: 0.5494\n",
      "Epoch 117/200\n",
      "7434/7434 - 0s - loss: 0.1232 - auc: 0.4770 - val_loss: 12.2135 - val_auc: 0.4621\n",
      "Epoch 118/200\n",
      "7434/7434 - 0s - loss: 0.1225 - auc: 0.4831 - val_loss: 12.2129 - val_auc: 0.4620\n",
      "Epoch 119/200\n",
      "7434/7434 - 0s - loss: 0.1218 - auc: 0.4746 - val_loss: 12.2122 - val_auc: 0.4625\n",
      "Epoch 120/200\n",
      "7434/7434 - 0s - loss: 0.1211 - auc: 0.4730 - val_loss: 0.3376 - val_auc: 0.5504\n",
      "Epoch 121/200\n",
      "7434/7434 - 0s - loss: 0.1205 - auc: 0.5674 - val_loss: 12.2109 - val_auc: 0.4628\n",
      "Epoch 122/200\n",
      "7434/7434 - 0s - loss: 0.1199 - auc: 0.5055 - val_loss: 2.4591 - val_auc: 0.5399\n",
      "Epoch 123/200\n",
      "7434/7434 - 0s - loss: 0.1192 - auc: 0.5432 - val_loss: 2.4585 - val_auc: 0.5399\n",
      "Epoch 124/200\n",
      "7434/7434 - 0s - loss: 0.1186 - auc: 0.4875 - val_loss: 2.4579 - val_auc: 0.5397\n",
      "Epoch 125/200\n",
      "7434/7434 - 0s - loss: 0.1181 - auc: 0.5038 - val_loss: 2.4574 - val_auc: 0.5395\n",
      "Epoch 126/200\n",
      "7434/7434 - 0s - loss: 0.1176 - auc: 0.5190 - val_loss: 12.2081 - val_auc: 0.4620\n",
      "Epoch 127/200\n",
      "7434/7434 - 0s - loss: 0.1170 - auc: 0.5160 - val_loss: 12.2076 - val_auc: 0.4627\n",
      "Epoch 128/200\n",
      "7434/7434 - 0s - loss: 0.1165 - auc: 0.4728 - val_loss: 12.2071 - val_auc: 0.4618\n",
      "Epoch 129/200\n",
      "7434/7434 - 0s - loss: 0.1160 - auc: 0.5342 - val_loss: 12.2066 - val_auc: 0.4605\n",
      "Epoch 130/200\n",
      "7434/7434 - 0s - loss: 0.1155 - auc: 0.5063 - val_loss: 12.2062 - val_auc: 0.4617\n",
      "Epoch 131/200\n",
      "7434/7434 - 0s - loss: 0.1151 - auc: 0.4860 - val_loss: 12.2057 - val_auc: 0.4617\n",
      "Epoch 132/200\n",
      "7434/7434 - 0s - loss: 0.1146 - auc: 0.5739 - val_loss: 2.4541 - val_auc: 0.5388\n",
      "Epoch 133/200\n",
      "7434/7434 - 0s - loss: 0.1142 - auc: 0.5402 - val_loss: 0.4766 - val_auc: 0.5441\n",
      "Epoch 134/200\n",
      "7434/7434 - 0s - loss: 0.1138 - auc: 0.5114 - val_loss: 2.4532 - val_auc: 0.5388\n",
      "Epoch 135/200\n",
      "7434/7434 - 0s - loss: 0.1134 - auc: 0.4900 - val_loss: 2.4528 - val_auc: 0.5389\n",
      "Epoch 136/200\n",
      "7434/7434 - 0s - loss: 0.1130 - auc: 0.5291 - val_loss: 2.4525 - val_auc: 0.5389\n",
      "Epoch 137/200\n",
      "7434/7434 - 0s - loss: 0.1126 - auc: 0.5719 - val_loss: 12.2033 - val_auc: 0.4617\n",
      "Epoch 138/200\n",
      "7434/7434 - 0s - loss: 0.1123 - auc: 0.5988 - val_loss: 2.4517 - val_auc: 0.5390\n",
      "Epoch 139/200\n",
      "7434/7434 - 0s - loss: 0.1119 - auc: 0.4682 - val_loss: 2.4514 - val_auc: 0.5378\n",
      "Epoch 140/200\n",
      "7434/7434 - 0s - loss: 0.1116 - auc: 0.4826 - val_loss: 2.4511 - val_auc: 0.5382\n",
      "Epoch 141/200\n",
      "7434/7434 - 0s - loss: 0.1113 - auc: 0.5471 - val_loss: 2.4508 - val_auc: 0.5380\n",
      "Epoch 142/200\n",
      "7434/7434 - 0s - loss: 0.1110 - auc: 0.5082 - val_loss: 2.4505 - val_auc: 0.5385\n",
      "Epoch 143/200\n",
      "7434/7434 - 0s - loss: 0.1107 - auc: 0.4977 - val_loss: 2.4501 - val_auc: 0.5390\n",
      "Epoch 144/200\n",
      "7434/7434 - 0s - loss: 0.1104 - auc: 0.5069 - val_loss: 2.4499 - val_auc: 0.5385\n",
      "Epoch 145/200\n",
      "7434/7434 - 0s - loss: 0.1101 - auc: 0.5124 - val_loss: 2.4496 - val_auc: 0.5392\n",
      "Epoch 146/200\n",
      "7434/7434 - 0s - loss: 0.1098 - auc: 0.5021 - val_loss: 2.4493 - val_auc: 0.5392\n",
      "Epoch 147/200\n",
      "7434/7434 - 0s - loss: 0.1095 - auc: 0.5052 - val_loss: 0.3264 - val_auc: 0.5496\n",
      "Epoch 148/200\n",
      "7434/7434 - 0s - loss: 0.1093 - auc: 0.5622 - val_loss: 0.3261 - val_auc: 0.5498\n",
      "Epoch 149/200\n",
      "7434/7434 - 0s - loss: 0.1090 - auc: 0.5361 - val_loss: 0.3262 - val_auc: 0.5493\n",
      "Epoch 150/200\n",
      "7434/7434 - 0s - loss: 0.1088 - auc: 0.5382 - val_loss: 2.4483 - val_auc: 0.5400\n",
      "Epoch 151/200\n",
      "7434/7434 - 0s - loss: 0.1086 - auc: 0.5434 - val_loss: 2.4481 - val_auc: 0.5400\n",
      "Epoch 152/200\n",
      "7434/7434 - 0s - loss: 0.1083 - auc: 0.5478 - val_loss: 2.4479 - val_auc: 0.5402\n",
      "Epoch 153/200\n",
      "7434/7434 - 0s - loss: 0.1081 - auc: 0.5124 - val_loss: 0.3250 - val_auc: 0.5503\n",
      "Epoch 154/200\n",
      "7434/7434 - 0s - loss: 0.1079 - auc: 0.4840 - val_loss: 0.3303 - val_auc: 0.5373\n",
      "Epoch 155/200\n",
      "7434/7434 - 0s - loss: 0.1077 - auc: 0.5086 - val_loss: 0.7490 - val_auc: 0.4868\n",
      "Epoch 156/200\n",
      "7434/7434 - 0s - loss: 0.1075 - auc: 0.5268 - val_loss: 0.4571 - val_auc: 0.4808\n",
      "Epoch 157/200\n",
      "7434/7434 - 0s - loss: 0.1073 - auc: 0.5055 - val_loss: 12.1981 - val_auc: 0.4628\n",
      "Epoch 158/200\n",
      "7434/7434 - 0s - loss: 0.1071 - auc: 0.4752 - val_loss: 12.1979 - val_auc: 0.4627\n",
      "Epoch 159/200\n",
      "7434/7434 - 0s - loss: 0.1070 - auc: 0.4994 - val_loss: 0.3239 - val_auc: 0.5499\n",
      "Epoch 160/200\n",
      "7434/7434 - 0s - loss: 0.1068 - auc: 0.5479 - val_loss: 12.1976 - val_auc: 0.4626\n",
      "Epoch 161/200\n",
      "7434/7434 - 0s - loss: 0.1066 - auc: 0.4882 - val_loss: 12.1974 - val_auc: 0.4626\n",
      "Epoch 162/200\n",
      "7434/7434 - 0s - loss: 0.1065 - auc: 0.5491 - val_loss: 2.4460 - val_auc: 0.5398\n",
      "Epoch 163/200\n",
      "7434/7434 - 0s - loss: 0.1063 - auc: 0.4789 - val_loss: 2.4459 - val_auc: 0.5398\n",
      "Epoch 164/200\n",
      "7434/7434 - 0s - loss: 0.1061 - auc: 0.4826 - val_loss: 2.4457 - val_auc: 0.5396\n",
      "Epoch 165/200\n",
      "7434/7434 - 0s - loss: 0.1060 - auc: 0.4970 - val_loss: 14.3195 - val_auc: 0.4523\n",
      "Epoch 166/200\n",
      "7434/7434 - 0s - loss: 0.1059 - auc: 0.5287 - val_loss: 12.1967 - val_auc: 0.4625\n",
      "Epoch 167/200\n",
      "7434/7434 - 0s - loss: 0.1057 - auc: 0.5048 - val_loss: 12.1966 - val_auc: 0.4626\n",
      "Epoch 168/200\n",
      "7434/7434 - 0s - loss: 0.1056 - auc: 0.5050 - val_loss: 2.4452 - val_auc: 0.5398\n",
      "Epoch 169/200\n",
      "7434/7434 - 0s - loss: 0.1055 - auc: 0.4970 - val_loss: 2.4451 - val_auc: 0.5398\n",
      "Epoch 170/200\n",
      "7434/7434 - 0s - loss: 0.1053 - auc: 0.5275 - val_loss: 0.3398 - val_auc: 0.5362\n",
      "Epoch 171/200\n",
      "7434/7434 - 0s - loss: 0.1052 - auc: 0.5031 - val_loss: 2.4392 - val_auc: 0.5398\n",
      "Epoch 172/200\n",
      "7434/7434 - 0s - loss: 0.1051 - auc: 0.5348 - val_loss: 2.4447 - val_auc: 0.5397\n"
     ]
    },
    {
     "name": "stdout",
     "output_type": "stream",
     "text": [
      "Epoch 173/200\n",
      "7434/7434 - 0s - loss: 0.1050 - auc: 0.5256 - val_loss: 2.4446 - val_auc: 0.5398\n",
      "Epoch 174/200\n",
      "7434/7434 - 0s - loss: 0.1049 - auc: 0.5229 - val_loss: 2.4445 - val_auc: 0.5398\n",
      "Epoch 175/200\n",
      "7434/7434 - 0s - loss: 0.1048 - auc: 0.5109 - val_loss: 0.3217 - val_auc: 0.5500\n",
      "Epoch 176/200\n",
      "7434/7434 - 0s - loss: 0.1047 - auc: 0.5270 - val_loss: 0.3216 - val_auc: 0.5500\n",
      "Epoch 177/200\n",
      "7434/7434 - 0s - loss: 0.1046 - auc: 0.4920 - val_loss: 2.4442 - val_auc: 0.5398\n",
      "Epoch 178/200\n",
      "7434/7434 - 0s - loss: 0.1045 - auc: 0.5498 - val_loss: 2.4441 - val_auc: 0.5398\n",
      "Epoch 179/200\n",
      "7434/7434 - 0s - loss: 0.1044 - auc: 0.5472 - val_loss: 2.4440 - val_auc: 0.5397\n",
      "Epoch 180/200\n",
      "7434/7434 - 0s - loss: 0.1043 - auc: 0.4893 - val_loss: 0.3213 - val_auc: 0.5499\n",
      "Epoch 181/200\n",
      "7434/7434 - 0s - loss: 0.1042 - auc: 0.4436 - val_loss: 0.3212 - val_auc: 0.5500\n",
      "Epoch 182/200\n",
      "7434/7434 - 0s - loss: 0.1041 - auc: 0.5584 - val_loss: 2.4437 - val_auc: 0.5398\n",
      "Epoch 183/200\n",
      "7434/7434 - 0s - loss: 0.1040 - auc: 0.5198 - val_loss: 2.4437 - val_auc: 0.5399\n",
      "Epoch 184/200\n",
      "7434/7434 - 0s - loss: 0.1040 - auc: 0.4970 - val_loss: 2.4436 - val_auc: 0.5400\n",
      "Epoch 185/200\n",
      "7434/7434 - 0s - loss: 0.1039 - auc: 0.4918 - val_loss: 2.4435 - val_auc: 0.5400\n",
      "Epoch 186/200\n",
      "7434/7434 - 0s - loss: 0.1038 - auc: 0.5034 - val_loss: 2.4435 - val_auc: 0.5400\n",
      "Epoch 187/200\n",
      "7434/7434 - 0s - loss: 0.1037 - auc: 0.5299 - val_loss: 2.4434 - val_auc: 0.5400\n",
      "Epoch 188/200\n",
      "7434/7434 - 0s - loss: 0.1037 - auc: 0.5289 - val_loss: 2.4433 - val_auc: 0.5399\n",
      "Epoch 189/200\n",
      "7434/7434 - 0s - loss: 0.1036 - auc: 0.5373 - val_loss: 2.4432 - val_auc: 0.5399\n",
      "Epoch 190/200\n",
      "7434/7434 - 0s - loss: 0.1035 - auc: 0.4800 - val_loss: 2.4432 - val_auc: 0.5400\n",
      "Epoch 191/200\n",
      "7434/7434 - 0s - loss: 0.1035 - auc: 0.4665 - val_loss: 12.1944 - val_auc: 0.4627\n",
      "Epoch 192/200\n",
      "7434/7434 - 0s - loss: 0.1034 - auc: 0.5098 - val_loss: 12.1943 - val_auc: 0.4627\n",
      "Epoch 193/200\n",
      "7434/7434 - 0s - loss: 0.1034 - auc: 0.5179 - val_loss: 12.1942 - val_auc: 0.4627\n",
      "Epoch 194/200\n",
      "7434/7434 - 0s - loss: 0.1033 - auc: 0.4922 - val_loss: 0.3205 - val_auc: 0.5497\n",
      "Epoch 195/200\n",
      "7434/7434 - 0s - loss: 0.1032 - auc: 0.5202 - val_loss: 0.3206 - val_auc: 0.5494\n",
      "Epoch 196/200\n",
      "7434/7434 - 0s - loss: 0.1032 - auc: 0.4926 - val_loss: 12.1941 - val_auc: 0.4627\n",
      "Epoch 197/200\n",
      "7434/7434 - 0s - loss: 0.1031 - auc: 0.5413 - val_loss: 12.1940 - val_auc: 0.4627\n",
      "Epoch 198/200\n",
      "7434/7434 - 0s - loss: 0.1031 - auc: 0.5231 - val_loss: 0.7498 - val_auc: 0.4860\n",
      "Epoch 199/200\n",
      "7434/7434 - 0s - loss: 0.1030 - auc: 0.5316 - val_loss: 2.4427 - val_auc: 0.5398\n",
      "Epoch 200/200\n",
      "7434/7434 - 0s - loss: 0.1030 - auc: 0.4740 - val_loss: 2.4427 - val_auc: 0.5398\n"
     ]
    }
   ],
   "source": [
    "lamda = 1\n",
    "epochs = 200\n",
    "p = 0.2\n",
    "model = Sequential()\n",
    "model.add(Dense(8, activation='relu',\n",
    "                kernel_regularizer=l2(l=lamda), \n",
    "                kernel_initializer=he_normal(),\n",
    "                input_dim=X_train.shape[1]))\n",
    "model.add(Dropout(p))\n",
    "model.add(Dense(4, activation='relu',\n",
    "                    kernel_regularizer=l2(l=lamda), \n",
    "                kernel_initializer=he_normal()))\n",
    "model.add(Dense(1, activation='sigmoid',\n",
    "                    kernel_initializer=he_normal()))\n",
    "\n",
    "initial_learning_rate = 0.008\n",
    "lr_schedule = tf.keras.optimizers.schedules.ExponentialDecay(\n",
    "    initial_learning_rate,\n",
    "    decay_steps=10,\n",
    "    decay_rate=0.9,\n",
    "    staircase=True)\n",
    "\n",
    "model.compile(loss='binary_crossentropy',\n",
    "                  optimizer=Adam(learning_rate=lr_schedule,\n",
    "                                beta_1=0.9, beta_2=0.95),\n",
    "                  metrics=[keras.metrics.AUC(name='auc')])\n",
    "\n",
    "history = model.fit(X_train_nn, y_train,\n",
    "                    validation_data = (X_valid_nn.to_numpy(), y_valid.to_numpy()),\n",
    "                     epochs=epochs, batch_size=3000, shuffle=True,\n",
    "                     verbose=2,class_weight= {0:0.01,1:1.18})"
   ]
  },
  {
   "cell_type": "code",
   "execution_count": 225,
   "metadata": {},
   "outputs": [
    {
     "data": {
      "text/plain": [
       "Text(0.5, 0, 'Epoch')"
      ]
     },
     "execution_count": 225,
     "metadata": {},
     "output_type": "execute_result"
    },
    {
     "data": {
      "image/png": "[encoded data removed]",
      "text/plain": [
       "<Figure size 432x288 with 1 Axes>"
      ]
     },
     "metadata": {
      "needs_background": "light"
     },
     "output_type": "display_data"
    }
   ],
   "source": [
    "# visualise learning\n",
    "plt.plot(history.history['loss'])\n",
    "plt.plot(history.history['val_loss'])\n",
    "plt.ylabel('loss')\n",
    "plt.xlabel('Epoch')"
   ]
  },
  {
   "cell_type": "code",
   "execution_count": 228,
   "metadata": {
    "scrolled": true
   },
   "outputs": [
    {
     "name": "stdout",
     "output_type": "stream",
     "text": [
      "WARNING:tensorflow:Falling back from v2 loop because of error: Failed to find data adapter that can handle input: <class 'pandas.core.frame.DataFrame'>, <class 'NoneType'>\n",
      "Train on 6154 samples\n",
      "Epoch 1/200\n",
      "6154/6154 - 0s - loss: 0.3069 - auc: 0.5442\n",
      "Epoch 2/200\n",
      "6154/6154 - 0s - loss: 0.3014 - auc: 0.5545\n",
      "Epoch 3/200\n",
      "6154/6154 - 0s - loss: 0.3099 - auc: 0.5387\n",
      "Epoch 4/200\n",
      "6154/6154 - 0s - loss: 0.3101 - auc: 0.5373\n",
      "Epoch 5/200\n",
      "6154/6154 - 0s - loss: 0.3074 - auc: 0.5426\n",
      "Epoch 6/200\n",
      "6154/6154 - 0s - loss: 0.2980 - auc: 0.5621\n",
      "Epoch 7/200\n",
      "6154/6154 - 0s - loss: 0.3073 - auc: 0.5437\n",
      "Epoch 8/200\n",
      "6154/6154 - 0s - loss: 0.3015 - auc: 0.5549\n",
      "Epoch 9/200\n",
      "6154/6154 - 0s - loss: 0.3069 - auc: 0.5437\n",
      "Epoch 10/200\n",
      "6154/6154 - 0s - loss: 0.3105 - auc: 0.5363\n",
      "Epoch 11/200\n",
      "6154/6154 - 0s - loss: 0.3041 - auc: 0.5496\n",
      "Epoch 12/200\n",
      "6154/6154 - 0s - loss: 0.3040 - auc: 0.5494\n",
      "Epoch 13/200\n",
      "6154/6154 - 0s - loss: 0.3041 - auc: 0.5497\n",
      "Epoch 14/200\n",
      "6154/6154 - 0s - loss: 0.2980 - auc: 0.5628\n",
      "Epoch 15/200\n",
      "6154/6154 - 0s - loss: 0.3100 - auc: 0.5378\n",
      "Epoch 16/200\n",
      "6154/6154 - 0s - loss: 0.3128 - auc: 0.5323\n",
      "Epoch 17/200\n",
      "6154/6154 - 0s - loss: 0.3070 - auc: 0.5441\n",
      "Epoch 18/200\n",
      "6154/6154 - 0s - loss: 0.3016 - auc: 0.5534\n",
      "Epoch 19/200\n",
      "6154/6154 - 0s - loss: 0.3068 - auc: 0.5443\n",
      "Epoch 20/200\n",
      "6154/6154 - 0s - loss: 0.3102 - auc: 0.5369\n",
      "Epoch 21/200\n",
      "6154/6154 - 0s - loss: 0.3102 - auc: 0.5367\n",
      "Epoch 22/200\n",
      "6154/6154 - 0s - loss: 0.3103 - auc: 0.5368\n",
      "Epoch 23/200\n",
      "6154/6154 - 0s - loss: 0.3077 - auc: 0.5410\n",
      "Epoch 24/200\n",
      "6154/6154 - 0s - loss: 0.3067 - auc: 0.5442\n",
      "Epoch 25/200\n",
      "6154/6154 - 0s - loss: 0.3100 - auc: 0.5370\n",
      "Epoch 26/200\n",
      "6154/6154 - 0s - loss: 0.3044 - auc: 0.5483\n",
      "Epoch 27/200\n",
      "6154/6154 - 0s - loss: 0.3077 - auc: 0.5409\n",
      "Epoch 28/200\n",
      "6154/6154 - 0s - loss: 0.3045 - auc: 0.5484\n",
      "Epoch 29/200\n",
      "6154/6154 - 0s - loss: 0.3129 - auc: 0.5320\n",
      "Epoch 30/200\n",
      "6154/6154 - 0s - loss: 0.3101 - auc: 0.5377\n",
      "Epoch 31/200\n",
      "6154/6154 - 0s - loss: 0.3100 - auc: 0.5381\n",
      "Epoch 32/200\n",
      "6154/6154 - 0s - loss: 0.3013 - auc: 0.5549\n",
      "Epoch 33/200\n",
      "6154/6154 - 0s - loss: 0.3005 - auc: 0.5587\n",
      "Epoch 34/200\n",
      "6154/6154 - 0s - loss: 0.3103 - auc: 0.5359\n",
      "Epoch 35/200\n",
      "6154/6154 - 0s - loss: 0.3136 - auc: 0.5299\n",
      "Epoch 36/200\n",
      "6154/6154 - 0s - loss: 0.3078 - auc: 0.5407\n",
      "Epoch 37/200\n",
      "6154/6154 - 0s - loss: 0.3018 - auc: 0.5528\n",
      "Epoch 38/200\n",
      "6154/6154 - 0s - loss: 0.3039 - auc: 0.5506\n",
      "Epoch 39/200\n",
      "6154/6154 - 0s - loss: 0.3128 - auc: 0.5326\n",
      "Epoch 40/200\n",
      "6154/6154 - 0s - loss: 0.3067 - auc: 0.5460\n",
      "Epoch 41/200\n",
      "6154/6154 - 0s - loss: 0.3100 - auc: 0.5377\n",
      "Epoch 42/200\n",
      "6154/6154 - 0s - loss: 0.3071 - auc: 0.5425\n",
      "Epoch 43/200\n",
      "6154/6154 - 0s - loss: 0.3074 - auc: 0.5424\n",
      "Epoch 44/200\n",
      "6154/6154 - 0s - loss: 0.3065 - auc: 0.5452\n",
      "Epoch 45/200\n",
      "6154/6154 - 0s - loss: 0.3104 - auc: 0.5359\n",
      "Epoch 46/200\n",
      "6154/6154 - 0s - loss: 0.3068 - auc: 0.5453\n",
      "Epoch 47/200\n",
      "6154/6154 - 0s - loss: 0.3043 - auc: 0.5500\n",
      "Epoch 48/200\n",
      "6154/6154 - 0s - loss: 0.3099 - auc: 0.5385\n",
      "Epoch 49/200\n",
      "6154/6154 - 0s - loss: 0.3035 - auc: 0.5524\n",
      "Epoch 50/200\n",
      "6154/6154 - 0s - loss: 0.3070 - auc: 0.5433\n",
      "Epoch 51/200\n",
      "6154/6154 - 0s - loss: 0.3098 - auc: 0.5393\n",
      "Epoch 52/200\n",
      "6154/6154 - 0s - loss: 0.3039 - auc: 0.5506\n",
      "Epoch 53/200\n",
      "6154/6154 - 0s - loss: 0.3098 - auc: 0.5380\n",
      "Epoch 54/200\n",
      "6154/6154 - 0s - loss: 0.3046 - auc: 0.5476\n",
      "Epoch 55/200\n",
      "6154/6154 - 0s - loss: 0.3071 - auc: 0.5440\n",
      "Epoch 56/200\n",
      "6154/6154 - 0s - loss: 0.3008 - auc: 0.5567\n",
      "Epoch 57/200\n",
      "6154/6154 - 0s - loss: 0.3042 - auc: 0.5479\n",
      "Epoch 58/200\n",
      "6154/6154 - 0s - loss: 0.3063 - auc: 0.5452\n",
      "Epoch 59/200\n",
      "6154/6154 - 0s - loss: 0.3075 - auc: 0.5417\n",
      "Epoch 60/200\n",
      "6154/6154 - 0s - loss: 0.3049 - auc: 0.5469\n",
      "Epoch 61/200\n",
      "6154/6154 - 0s - loss: 0.3128 - auc: 0.5332\n",
      "Epoch 62/200\n",
      "6154/6154 - 0s - loss: 0.3073 - auc: 0.5419\n",
      "Epoch 63/200\n",
      "6154/6154 - 0s - loss: 0.3072 - auc: 0.5433\n",
      "Epoch 64/200\n",
      "6154/6154 - 0s - loss: 0.3044 - auc: 0.5481\n",
      "Epoch 65/200\n",
      "6154/6154 - 0s - loss: 0.3045 - auc: 0.5480\n",
      "Epoch 66/200\n",
      "6154/6154 - 0s - loss: 0.3043 - auc: 0.5498\n",
      "Epoch 67/200\n",
      "6154/6154 - 0s - loss: 0.3070 - auc: 0.5437\n",
      "Epoch 68/200\n",
      "6154/6154 - 0s - loss: 0.3012 - auc: 0.5556\n",
      "Epoch 69/200\n",
      "6154/6154 - 0s - loss: 0.3070 - auc: 0.5443\n",
      "Epoch 70/200\n",
      "6154/6154 - 0s - loss: 0.3077 - auc: 0.5417\n",
      "Epoch 71/200\n",
      "6154/6154 - 0s - loss: 0.3071 - auc: 0.5433\n",
      "Epoch 72/200\n",
      "6154/6154 - 0s - loss: 0.2984 - auc: 0.5614\n",
      "Epoch 73/200\n",
      "6154/6154 - 0s - loss: 0.3034 - auc: 0.5526\n",
      "Epoch 74/200\n",
      "6154/6154 - 0s - loss: 0.3100 - auc: 0.5379\n",
      "Epoch 75/200\n",
      "6154/6154 - 0s - loss: 0.3077 - auc: 0.5418\n",
      "Epoch 76/200\n",
      "6154/6154 - 0s - loss: 0.3008 - auc: 0.5567\n",
      "Epoch 77/200\n",
      "6154/6154 - 0s - loss: 0.3008 - auc: 0.5563\n",
      "Epoch 78/200\n",
      "6154/6154 - 0s - loss: 0.2977 - auc: 0.5639\n",
      "Epoch 79/200\n",
      "6154/6154 - 0s - loss: 0.3083 - auc: 0.5377\n",
      "Epoch 80/200\n",
      "6154/6154 - 0s - loss: 0.2982 - auc: 0.5626\n",
      "Epoch 81/200\n",
      "6154/6154 - 0s - loss: 0.3101 - auc: 0.5369\n",
      "Epoch 82/200\n",
      "6154/6154 - 0s - loss: 0.3010 - auc: 0.5567\n",
      "Epoch 83/200\n",
      "6154/6154 - 0s - loss: 0.2955 - auc: 0.5675\n",
      "Epoch 84/200\n",
      "6154/6154 - 0s - loss: 0.3067 - auc: 0.5442\n",
      "Epoch 85/200\n",
      "6154/6154 - 0s - loss: 0.3040 - auc: 0.5505\n",
      "Epoch 86/200\n",
      "6154/6154 - 0s - loss: 0.3075 - auc: 0.5409\n",
      "Epoch 87/200\n",
      "6154/6154 - 0s - loss: 0.3096 - auc: 0.5391\n",
      "Epoch 88/200\n",
      "6154/6154 - 0s - loss: 0.3041 - auc: 0.5505\n",
      "Epoch 89/200\n",
      "6154/6154 - 0s - loss: 0.3010 - auc: 0.5559\n",
      "Epoch 90/200\n",
      "6154/6154 - 0s - loss: 0.2983 - auc: 0.5615\n",
      "Epoch 91/200\n",
      "6154/6154 - 0s - loss: 0.3074 - auc: 0.5431\n",
      "Epoch 92/200\n",
      "6154/6154 - 0s - loss: 0.2982 - auc: 0.5632\n",
      "Epoch 93/200\n",
      "6154/6154 - 0s - loss: 0.3008 - auc: 0.5569\n",
      "Epoch 94/200\n",
      "6154/6154 - 0s - loss: 0.3074 - auc: 0.5424\n",
      "Epoch 95/200\n",
      "6154/6154 - 0s - loss: 0.2895 - auc: 0.5796\n",
      "Epoch 96/200\n",
      "6154/6154 - 0s - loss: 0.2979 - auc: 0.5629\n",
      "Epoch 97/200\n",
      "6154/6154 - 0s - loss: 0.3126 - auc: 0.5323\n",
      "Epoch 98/200\n",
      "6154/6154 - 0s - loss: 0.2952 - auc: 0.5680\n",
      "Epoch 99/200\n",
      "6154/6154 - 0s - loss: 0.3075 - auc: 0.5421\n",
      "Epoch 100/200\n",
      "6154/6154 - 0s - loss: 0.3075 - auc: 0.5418\n",
      "Epoch 101/200\n",
      "6154/6154 - 0s - loss: 0.2949 - auc: 0.5683\n",
      "Epoch 102/200\n",
      "6154/6154 - 0s - loss: 0.3040 - auc: 0.5495\n",
      "Epoch 103/200\n",
      "6154/6154 - 0s - loss: 0.3071 - auc: 0.5437\n",
      "Epoch 104/200\n",
      "6154/6154 - 0s - loss: 0.2946 - auc: 0.5703\n",
      "Epoch 105/200\n",
      "6154/6154 - 0s - loss: 0.3101 - auc: 0.5385\n",
      "Epoch 106/200\n",
      "6154/6154 - 0s - loss: 0.3108 - auc: 0.5354\n",
      "Epoch 107/200\n",
      "6154/6154 - 0s - loss: 0.3035 - auc: 0.5518\n",
      "Epoch 108/200\n",
      "6154/6154 - 0s - loss: 0.3074 - auc: 0.5423\n",
      "Epoch 109/200\n",
      "6154/6154 - 0s - loss: 0.3131 - auc: 0.5311\n",
      "Epoch 110/200\n",
      "6154/6154 - 0s - loss: 0.2983 - auc: 0.5616\n",
      "Epoch 111/200\n",
      "6154/6154 - 0s - loss: 0.3070 - auc: 0.5436\n",
      "Epoch 112/200\n",
      "6154/6154 - 0s - loss: 0.3046 - auc: 0.5477\n",
      "Epoch 113/200\n",
      "6154/6154 - 0s - loss: 0.3098 - auc: 0.5380\n",
      "Epoch 114/200\n",
      "6154/6154 - 0s - loss: 0.3019 - auc: 0.5523\n",
      "Epoch 115/200\n",
      "6154/6154 - 0s - loss: 0.3037 - auc: 0.5516\n",
      "Epoch 116/200\n",
      "6154/6154 - 0s - loss: 0.3039 - auc: 0.5500\n",
      "Epoch 117/200\n",
      "6154/6154 - 0s - loss: 0.3041 - auc: 0.5499\n",
      "Epoch 118/200\n",
      "6154/6154 - 0s - loss: 0.2980 - auc: 0.5624\n",
      "Epoch 119/200\n",
      "6154/6154 - 0s - loss: 0.3098 - auc: 0.5378\n",
      "Epoch 120/200\n",
      "6154/6154 - 0s - loss: 0.3043 - auc: 0.5491\n",
      "Epoch 121/200\n",
      "6154/6154 - 0s - loss: 0.2951 - auc: 0.5679\n",
      "Epoch 122/200\n",
      "6154/6154 - 0s - loss: 0.3039 - auc: 0.5498\n",
      "Epoch 123/200\n",
      "6154/6154 - 0s - loss: 0.3075 - auc: 0.5413\n",
      "Epoch 124/200\n",
      "6154/6154 - 0s - loss: 0.3044 - auc: 0.5486\n",
      "Epoch 125/200\n",
      "6154/6154 - 0s - loss: 0.3103 - auc: 0.5362\n",
      "Epoch 126/200\n",
      "6154/6154 - 0s - loss: 0.3072 - auc: 0.5430\n",
      "Epoch 127/200\n",
      "6154/6154 - 0s - loss: 0.3042 - auc: 0.5495\n",
      "Epoch 128/200\n",
      "6154/6154 - 0s - loss: 0.2982 - auc: 0.5624\n",
      "Epoch 129/200\n",
      "6154/6154 - 0s - loss: 0.2983 - auc: 0.5615\n",
      "Epoch 130/200\n",
      "6154/6154 - 0s - loss: 0.3042 - auc: 0.5490\n",
      "Epoch 131/200\n",
      "6154/6154 - 0s - loss: 0.3043 - auc: 0.5498\n",
      "Epoch 132/200\n",
      "6154/6154 - 0s - loss: 0.3130 - auc: 0.5309\n",
      "Epoch 133/200\n",
      "6154/6154 - 0s - loss: 0.3040 - auc: 0.5503\n",
      "Epoch 134/200\n",
      "6154/6154 - 0s - loss: 0.3101 - auc: 0.5369\n",
      "Epoch 135/200\n",
      "6154/6154 - 0s - loss: 0.3042 - auc: 0.5498\n",
      "Epoch 136/200\n",
      "6154/6154 - 0s - loss: 0.2951 - auc: 0.5690\n",
      "Epoch 137/200\n",
      "6154/6154 - 0s - loss: 0.3075 - auc: 0.5425\n",
      "Epoch 138/200\n",
      "6154/6154 - 0s - loss: 0.3038 - auc: 0.5500\n",
      "Epoch 139/200\n",
      "6154/6154 - 0s - loss: 0.3014 - auc: 0.5542\n",
      "Epoch 140/200\n",
      "6154/6154 - 0s - loss: 0.3071 - auc: 0.5430\n"
     ]
    },
    {
     "name": "stdout",
     "output_type": "stream",
     "text": [
      "Epoch 141/200\n",
      "6154/6154 - 0s - loss: 0.3103 - auc: 0.5361\n",
      "Epoch 142/200\n",
      "6154/6154 - 0s - loss: 0.3098 - auc: 0.5370\n",
      "Epoch 143/200\n",
      "6154/6154 - 0s - loss: 0.2984 - auc: 0.5609\n",
      "Epoch 144/200\n",
      "6154/6154 - 0s - loss: 0.3040 - auc: 0.5503\n",
      "Epoch 145/200\n",
      "6154/6154 - 0s - loss: 0.3068 - auc: 0.5447\n",
      "Epoch 146/200\n",
      "6154/6154 - 0s - loss: 0.3074 - auc: 0.5420\n",
      "Epoch 147/200\n",
      "6154/6154 - 0s - loss: 0.3072 - auc: 0.5435\n",
      "Epoch 148/200\n",
      "6154/6154 - 0s - loss: 0.3042 - auc: 0.5492\n",
      "Epoch 149/200\n",
      "6154/6154 - 0s - loss: 0.3068 - auc: 0.5456\n",
      "Epoch 150/200\n",
      "6154/6154 - 0s - loss: 0.3038 - auc: 0.5513\n",
      "Epoch 151/200\n",
      "6154/6154 - 0s - loss: 0.3040 - auc: 0.5494\n",
      "Epoch 152/200\n",
      "6154/6154 - 0s - loss: 0.3043 - auc: 0.5483\n",
      "Epoch 153/200\n",
      "6154/6154 - 0s - loss: 0.3069 - auc: 0.5445\n",
      "Epoch 154/200\n",
      "6154/6154 - 0s - loss: 0.3007 - auc: 0.5571\n",
      "Epoch 155/200\n",
      "6154/6154 - 0s - loss: 0.2952 - auc: 0.5671\n",
      "Epoch 156/200\n",
      "6154/6154 - 0s - loss: 0.3034 - auc: 0.5528\n",
      "Epoch 157/200\n",
      "6154/6154 - 0s - loss: 0.3011 - auc: 0.5557\n",
      "Epoch 158/200\n",
      "6154/6154 - 0s - loss: 0.3004 - auc: 0.5581\n",
      "Epoch 159/200\n",
      "6154/6154 - 0s - loss: 0.3101 - auc: 0.5372\n",
      "Epoch 160/200\n",
      "6154/6154 - 0s - loss: 0.3096 - auc: 0.5397\n",
      "Epoch 161/200\n",
      "6154/6154 - 0s - loss: 0.3011 - auc: 0.5566\n",
      "Epoch 162/200\n",
      "6154/6154 - 0s - loss: 0.3104 - auc: 0.5365\n",
      "Epoch 163/200\n",
      "6154/6154 - 0s - loss: 0.3037 - auc: 0.5514\n",
      "Epoch 164/200\n",
      "6154/6154 - 0s - loss: 0.2979 - auc: 0.5627\n",
      "Epoch 165/200\n",
      "6154/6154 - 0s - loss: 0.3013 - auc: 0.5548\n",
      "Epoch 166/200\n",
      "6154/6154 - 0s - loss: 0.3068 - auc: 0.5447\n",
      "Epoch 167/200\n",
      "6154/6154 - 0s - loss: 0.3045 - auc: 0.5475\n",
      "Epoch 168/200\n",
      "6154/6154 - 0s - loss: 0.3041 - auc: 0.5503\n",
      "Epoch 169/200\n",
      "6154/6154 - 0s - loss: 0.3129 - auc: 0.5314\n",
      "Epoch 170/200\n",
      "6154/6154 - 0s - loss: 0.3104 - auc: 0.5355\n",
      "Epoch 171/200\n",
      "6154/6154 - 0s - loss: 0.3074 - auc: 0.5426\n",
      "Epoch 172/200\n",
      "6154/6154 - 0s - loss: 0.2987 - auc: 0.5593\n",
      "Epoch 173/200\n",
      "6154/6154 - 0s - loss: 0.2985 - auc: 0.5609\n",
      "Epoch 174/200\n",
      "6154/6154 - 0s - loss: 0.3069 - auc: 0.5447\n",
      "Epoch 175/200\n",
      "6154/6154 - 0s - loss: 0.3099 - auc: 0.5374\n",
      "Epoch 176/200\n",
      "6154/6154 - 0s - loss: 0.3071 - auc: 0.5440\n",
      "Epoch 177/200\n",
      "6154/6154 - 0s - loss: 0.3099 - auc: 0.5380\n",
      "Epoch 178/200\n",
      "6154/6154 - 0s - loss: 0.3101 - auc: 0.5368\n",
      "Epoch 179/200\n",
      "6154/6154 - 0s - loss: 0.3096 - auc: 0.5391\n",
      "Epoch 180/200\n",
      "6154/6154 - 0s - loss: 0.3128 - auc: 0.5318\n",
      "Epoch 181/200\n",
      "6154/6154 - 0s - loss: 0.3075 - auc: 0.5419\n",
      "Epoch 182/200\n",
      "6154/6154 - 0s - loss: 0.3069 - auc: 0.5442\n",
      "Epoch 183/200\n",
      "6154/6154 - 0s - loss: 0.3016 - auc: 0.5532\n",
      "Epoch 184/200\n",
      "6154/6154 - 0s - loss: 0.3099 - auc: 0.5380\n",
      "Epoch 185/200\n",
      "6154/6154 - 0s - loss: 0.3097 - auc: 0.5387\n",
      "Epoch 186/200\n",
      "6154/6154 - 0s - loss: 0.3070 - auc: 0.5435\n",
      "Epoch 187/200\n",
      "6154/6154 - 0s - loss: 0.3049 - auc: 0.5464\n",
      "Epoch 188/200\n",
      "6154/6154 - 0s - loss: 0.3009 - auc: 0.5566\n",
      "Epoch 189/200\n",
      "6154/6154 - 0s - loss: 0.3069 - auc: 0.5437\n",
      "Epoch 190/200\n",
      "6154/6154 - 0s - loss: 0.3131 - auc: 0.5316\n",
      "Epoch 191/200\n",
      "6154/6154 - 0s - loss: 0.3137 - auc: 0.5292\n",
      "Epoch 192/200\n",
      "6154/6154 - 0s - loss: 0.3102 - auc: 0.5369\n",
      "Epoch 193/200\n",
      "6154/6154 - 0s - loss: 0.3043 - auc: 0.5488\n",
      "Epoch 194/200\n",
      "6154/6154 - 0s - loss: 0.3134 - auc: 0.5301\n",
      "Epoch 195/200\n",
      "6154/6154 - 0s - loss: 0.2988 - auc: 0.5599\n",
      "Epoch 196/200\n",
      "6154/6154 - 0s - loss: 0.2979 - auc: 0.5636\n",
      "Epoch 197/200\n",
      "6154/6154 - 0s - loss: 0.3105 - auc: 0.5358\n",
      "Epoch 198/200\n",
      "6154/6154 - 0s - loss: 0.3063 - auc: 0.5465\n",
      "Epoch 199/200\n",
      "6154/6154 - 0s - loss: 0.3099 - auc: 0.5384\n",
      "Epoch 200/200\n",
      "6154/6154 - 0s - loss: 0.2982 - auc: 0.5627\n"
     ]
    },
    {
     "data": {
      "text/plain": [
       "<tensorflow.python.keras.callbacks.History at 0x7ff442f87860>"
      ]
     },
     "execution_count": 228,
     "metadata": {},
     "output_type": "execute_result"
    }
   ],
   "source": [
    "# Re-train using train and valid set together\n",
    "model.fit(X_train_valid_nn, y_train_valid,\n",
    "                     epochs=epochs, batch_size=3000, shuffle=True,\n",
    "                     verbose=2,class_weight= {0:0.01,1:1.18})"
   ]
  },
  {
   "cell_type": "code",
   "execution_count": 229,
   "metadata": {},
   "outputs": [
    {
     "name": "stdout",
     "output_type": "stream",
     "text": [
      "WARNING:tensorflow:Falling back from v2 loop because of error: Failed to find data adapter that can handle input: <class 'pandas.core.frame.DataFrame'>, <class 'NoneType'>\n",
      "WARNING:tensorflow:Falling back from v2 loop because of error: Failed to find data adapter that can handle input: <class 'pandas.core.frame.DataFrame'>, <class 'NoneType'>\n"
     ]
    },
    {
     "name": "stderr",
     "output_type": "stream",
     "text": [
      "/Users/Simon-CWG/anaconda3/lib/python3.7/site-packages/ipykernel_launcher.py:5: FutureWarning: elementwise comparison failed; returning scalar instead, but in the future will perform elementwise comparison\n",
      "  \"\"\"\n"
     ]
    },
    {
     "data": {
      "image/png": "[encoded data removed]",
      "text/plain": [
       "<Figure size 432x288 with 1 Axes>"
      ]
     },
     "metadata": {
      "needs_background": "light"
     },
     "output_type": "display_data"
    },
    {
     "name": "stdout",
     "output_type": "stream",
     "text": [
      "best threshold:  0.51830673\n"
     ]
    },
    {
     "data": {
      "text/plain": [
       "0.51830673"
      ]
     },
     "execution_count": 229,
     "metadata": {},
     "output_type": "execute_result"
    }
   ],
   "source": [
    "nn_predict_proba = np.concatenate(((1-model.predict(X_test_nn)), model.predict(X_test_nn)), axis=1)\n",
    "do_roc_auc(classifier=model,\n",
    "           train_x_roc=X_train_valid_nn, train_y_roc=y_train_valid, predict_proba = nn_predict_proba,\n",
    "           validation_x_roc=X_test_nn, validation_y_roc=y_test, fit=False, verbose = True)"
   ]
  },
  {
   "cell_type": "code",
   "execution_count": 156,
   "metadata": {},
   "outputs": [
    {
     "name": "stdout",
     "output_type": "stream",
     "text": [
      "WARNING:tensorflow:Falling back from v2 loop because of error: Failed to find data adapter that can handle input: <class 'pandas.core.frame.DataFrame'>, <class 'NoneType'>\n"
     ]
    },
    {
     "data": {
      "text/html": [
       "<div>\n",
       "<style scoped>\n",
       "    .dataframe tbody tr th:only-of-type {\n",
       "        vertical-align: middle;\n",
       "    }\n",
       "\n",
       "    .dataframe tbody tr th {\n",
       "        vertical-align: top;\n",
       "    }\n",
       "\n",
       "    .dataframe thead th {\n",
       "        text-align: right;\n",
       "    }\n",
       "</style>\n",
       "<table border=\"1\" class=\"dataframe\">\n",
       "  <thead>\n",
       "    <tr style=\"text-align: right;\">\n",
       "      <th></th>\n",
       "      <th>Actual Non-default</th>\n",
       "      <th>Actual Default</th>\n",
       "    </tr>\n",
       "  </thead>\n",
       "  <tbody>\n",
       "    <tr>\n",
       "      <th>Predicted Non-default</th>\n",
       "      <td>1324</td>\n",
       "      <td>4</td>\n",
       "    </tr>\n",
       "    <tr>\n",
       "      <th>Predicted Default</th>\n",
       "      <td>5688</td>\n",
       "      <td>32</td>\n",
       "    </tr>\n",
       "  </tbody>\n",
       "</table>\n",
       "</div>"
      ],
      "text/plain": [
       "                       Actual Non-default  Actual Default\n",
       "Predicted Non-default                1324               4\n",
       "Predicted Default                    5688              32"
      ]
     },
     "metadata": {},
     "output_type": "display_data"
    }
   ],
   "source": [
    "thre = 0.99205\n",
    "predict = model.predict(X_test_nn)\n",
    "predict = np.concatenate((predict,(1-predict)), axis=1)\n",
    "predict_df = pd.DataFrame(data = predict, columns = ['0_prob','1_prob'])\n",
    "display(confusion_matrix_function(y_test, predict_df['1_prob'] > thre, normalize =None))"
   ]
  },
  {
   "cell_type": "markdown",
   "metadata": {},
   "source": [
    "## Backtest as a strategy"
   ]
  },
  {
   "cell_type": "code",
   "execution_count": 67,
   "metadata": {
    "collapsed": true
   },
   "outputs": [
    {
     "data": {
      "text/html": [
       "<div>\n",
       "<style scoped>\n",
       "    .dataframe tbody tr th:only-of-type {\n",
       "        vertical-align: middle;\n",
       "    }\n",
       "\n",
       "    .dataframe tbody tr th {\n",
       "        vertical-align: top;\n",
       "    }\n",
       "\n",
       "    .dataframe thead th {\n",
       "        text-align: right;\n",
       "    }\n",
       "</style>\n",
       "<table border=\"1\" class=\"dataframe\">\n",
       "  <thead>\n",
       "    <tr style=\"text-align: right;\">\n",
       "      <th></th>\n",
       "      <th>300735.SZ</th>\n",
       "      <th>600351.SH</th>\n",
       "      <th>002492.SZ</th>\n",
       "      <th>600860.SH</th>\n",
       "      <th>603726.SH</th>\n",
       "      <th>002911.SZ</th>\n",
       "      <th>688277.SH</th>\n",
       "      <th>300345.SZ</th>\n",
       "      <th>002438.SZ</th>\n",
       "      <th>002385.SZ</th>\n",
       "      <th>...</th>\n",
       "      <th>688028.SH</th>\n",
       "      <th>688300.SH</th>\n",
       "      <th>688001.SH</th>\n",
       "      <th>002395.SZ</th>\n",
       "      <th>600780.SH</th>\n",
       "      <th>601608.SH</th>\n",
       "      <th>300253.SZ</th>\n",
       "      <th>603012.SH</th>\n",
       "      <th>603517.SH</th>\n",
       "      <th>600029.SH</th>\n",
       "    </tr>\n",
       "    <tr>\n",
       "      <th>date</th>\n",
       "      <th></th>\n",
       "      <th></th>\n",
       "      <th></th>\n",
       "      <th></th>\n",
       "      <th></th>\n",
       "      <th></th>\n",
       "      <th></th>\n",
       "      <th></th>\n",
       "      <th></th>\n",
       "      <th></th>\n",
       "      <th></th>\n",
       "      <th></th>\n",
       "      <th></th>\n",
       "      <th></th>\n",
       "      <th></th>\n",
       "      <th></th>\n",
       "      <th></th>\n",
       "      <th></th>\n",
       "      <th></th>\n",
       "      <th></th>\n",
       "      <th></th>\n",
       "    </tr>\n",
       "  </thead>\n",
       "  <tbody>\n",
       "    <tr>\n",
       "      <th>2015-05-04</th>\n",
       "      <td>NaN</td>\n",
       "      <td>0.2950</td>\n",
       "      <td>-1.0402</td>\n",
       "      <td>0.2639</td>\n",
       "      <td>NaN</td>\n",
       "      <td>NaN</td>\n",
       "      <td>NaN</td>\n",
       "      <td>1.2223</td>\n",
       "      <td>-1.9839</td>\n",
       "      <td>0.2885</td>\n",
       "      <td>...</td>\n",
       "      <td>NaN</td>\n",
       "      <td>NaN</td>\n",
       "      <td>NaN</td>\n",
       "      <td>2.7833</td>\n",
       "      <td>8.7234</td>\n",
       "      <td>0.0000</td>\n",
       "      <td>-5.8655</td>\n",
       "      <td>-1.2853</td>\n",
       "      <td>NaN</td>\n",
       "      <td>-0.8349</td>\n",
       "    </tr>\n",
       "    <tr>\n",
       "      <th>2015-05-05</th>\n",
       "      <td>NaN</td>\n",
       "      <td>-5.2941</td>\n",
       "      <td>-3.0133</td>\n",
       "      <td>0.2632</td>\n",
       "      <td>NaN</td>\n",
       "      <td>NaN</td>\n",
       "      <td>NaN</td>\n",
       "      <td>-0.6038</td>\n",
       "      <td>-3.5678</td>\n",
       "      <td>-7.0695</td>\n",
       "      <td>...</td>\n",
       "      <td>NaN</td>\n",
       "      <td>NaN</td>\n",
       "      <td>NaN</td>\n",
       "      <td>-6.2863</td>\n",
       "      <td>-7.0450</td>\n",
       "      <td>0.0000</td>\n",
       "      <td>-3.9666</td>\n",
       "      <td>-2.1205</td>\n",
       "      <td>NaN</td>\n",
       "      <td>-6.6417</td>\n",
       "    </tr>\n",
       "    <tr>\n",
       "      <th>2015-05-06</th>\n",
       "      <td>NaN</td>\n",
       "      <td>-3.0280</td>\n",
       "      <td>0.0723</td>\n",
       "      <td>0.0875</td>\n",
       "      <td>NaN</td>\n",
       "      <td>NaN</td>\n",
       "      <td>NaN</td>\n",
       "      <td>3.0372</td>\n",
       "      <td>-2.8815</td>\n",
       "      <td>-2.0345</td>\n",
       "      <td>...</td>\n",
       "      <td>NaN</td>\n",
       "      <td>NaN</td>\n",
       "      <td>NaN</td>\n",
       "      <td>1.3932</td>\n",
       "      <td>-4.5263</td>\n",
       "      <td>0.0000</td>\n",
       "      <td>1.0445</td>\n",
       "      <td>-2.2805</td>\n",
       "      <td>NaN</td>\n",
       "      <td>-5.5110</td>\n",
       "    </tr>\n",
       "    <tr>\n",
       "      <th>2015-05-07</th>\n",
       "      <td>NaN</td>\n",
       "      <td>-4.2434</td>\n",
       "      <td>-7.2464</td>\n",
       "      <td>-5.4196</td>\n",
       "      <td>NaN</td>\n",
       "      <td>NaN</td>\n",
       "      <td>NaN</td>\n",
       "      <td>1.4001</td>\n",
       "      <td>0.9158</td>\n",
       "      <td>-0.8578</td>\n",
       "      <td>...</td>\n",
       "      <td>NaN</td>\n",
       "      <td>NaN</td>\n",
       "      <td>NaN</td>\n",
       "      <td>-6.7684</td>\n",
       "      <td>-6.9460</td>\n",
       "      <td>10.0775</td>\n",
       "      <td>5.2153</td>\n",
       "      <td>-3.9673</td>\n",
       "      <td>NaN</td>\n",
       "      <td>-6.5748</td>\n",
       "    </tr>\n",
       "    <tr>\n",
       "      <th>2015-05-08</th>\n",
       "      <td>NaN</td>\n",
       "      <td>4.2642</td>\n",
       "      <td>3.3594</td>\n",
       "      <td>1.7560</td>\n",
       "      <td>NaN</td>\n",
       "      <td>NaN</td>\n",
       "      <td>NaN</td>\n",
       "      <td>9.9927</td>\n",
       "      <td>3.2305</td>\n",
       "      <td>6.0565</td>\n",
       "      <td>...</td>\n",
       "      <td>NaN</td>\n",
       "      <td>NaN</td>\n",
       "      <td>NaN</td>\n",
       "      <td>5.7860</td>\n",
       "      <td>2.8436</td>\n",
       "      <td>10.0000</td>\n",
       "      <td>10.0030</td>\n",
       "      <td>3.7262</td>\n",
       "      <td>NaN</td>\n",
       "      <td>7.0375</td>\n",
       "    </tr>\n",
       "  </tbody>\n",
       "</table>\n",
       "<p>5 rows × 3930 columns</p>\n",
       "</div>"
      ],
      "text/plain": [
       "            300735.SZ  600351.SH  002492.SZ  600860.SH  603726.SH  002911.SZ  \\\n",
       "date                                                                           \n",
       "2015-05-04        NaN     0.2950    -1.0402     0.2639        NaN        NaN   \n",
       "2015-05-05        NaN    -5.2941    -3.0133     0.2632        NaN        NaN   \n",
       "2015-05-06        NaN    -3.0280     0.0723     0.0875        NaN        NaN   \n",
       "2015-05-07        NaN    -4.2434    -7.2464    -5.4196        NaN        NaN   \n",
       "2015-05-08        NaN     4.2642     3.3594     1.7560        NaN        NaN   \n",
       "\n",
       "            688277.SH  300345.SZ  002438.SZ  002385.SZ  ...  688028.SH  \\\n",
       "date                                                    ...              \n",
       "2015-05-04        NaN     1.2223    -1.9839     0.2885  ...        NaN   \n",
       "2015-05-05        NaN    -0.6038    -3.5678    -7.0695  ...        NaN   \n",
       "2015-05-06        NaN     3.0372    -2.8815    -2.0345  ...        NaN   \n",
       "2015-05-07        NaN     1.4001     0.9158    -0.8578  ...        NaN   \n",
       "2015-05-08        NaN     9.9927     3.2305     6.0565  ...        NaN   \n",
       "\n",
       "            688300.SH  688001.SH  002395.SZ  600780.SH  601608.SH  300253.SZ  \\\n",
       "date                                                                           \n",
       "2015-05-04        NaN        NaN     2.7833     8.7234     0.0000    -5.8655   \n",
       "2015-05-05        NaN        NaN    -6.2863    -7.0450     0.0000    -3.9666   \n",
       "2015-05-06        NaN        NaN     1.3932    -4.5263     0.0000     1.0445   \n",
       "2015-05-07        NaN        NaN    -6.7684    -6.9460    10.0775     5.2153   \n",
       "2015-05-08        NaN        NaN     5.7860     2.8436    10.0000    10.0030   \n",
       "\n",
       "            603012.SH  603517.SH  600029.SH  \n",
       "date                                         \n",
       "2015-05-04    -1.2853        NaN    -0.8349  \n",
       "2015-05-05    -2.1205        NaN    -6.6417  \n",
       "2015-05-06    -2.2805        NaN    -5.5110  \n",
       "2015-05-07    -3.9673        NaN    -6.5748  \n",
       "2015-05-08     3.7262        NaN     7.0375  \n",
       "\n",
       "[5 rows x 3930 columns]"
      ]
     },
     "execution_count": 67,
     "metadata": {},
     "output_type": "execute_result"
    }
   ],
   "source": [
    "# backtest\n",
    "all_ts = pd.read_csv('all_stock_ts.csv', index_col=0, parse_dates=True)\n",
    "all_ts.head()"
   ]
  },
  {
   "cell_type": "code",
   "execution_count": 68,
   "metadata": {},
   "outputs": [
    {
     "data": {
      "text/plain": [
       "<matplotlib.axes._subplots.AxesSubplot at 0x7ffb31e4ed68>"
      ]
     },
     "execution_count": 68,
     "metadata": {},
     "output_type": "execute_result"
    },
    {
     "data": {
      "image/png": "[encoded data removed]",
      "text/plain": [
       "<Figure size 432x288 with 1 Axes>"
      ]
     },
     "metadata": {
      "needs_background": "light"
     },
     "output_type": "display_data"
    }
   ],
   "source": [
    "market_cum = (all_ts.mean(axis=1)/100+1).cumprod()\n",
    "market_cum.plot()"
   ]
  },
  {
   "cell_type": "code",
   "execution_count": 190,
   "metadata": {},
   "outputs": [],
   "source": [
    "def backtest(predict, strategy=0):\n",
    "    backtest = all_ts.copy()\n",
    "    all_year = []\n",
    "    for i in range(predict.shape[0]):\n",
    "        print(i)\n",
    "        clear_output(wait=True)\n",
    "        stockcode = predict.iloc[i,0]\n",
    "        report_date = datetime.strptime(str(predict.iloc[i,1]),'%Y%m%d')\n",
    "        report_yr = report_date.year\n",
    "        if report_yr not in all_year:\n",
    "            all_year.append(report_yr)\n",
    "        startdate = date(report_yr+1,5,1) #次年5月1号开始\n",
    "        enddate = startdate + timedelta(days = 547) #持仓1年半\n",
    "\n",
    "        def select_date(date, startdate, enddate):\n",
    "            if (date > startdate) & (date<enddate):\n",
    "                return True\n",
    "            else: return False\n",
    "\n",
    "        date_range = all_ts.index[[select_date(date, startdate, enddate) for date in \n",
    "                                   list(all_ts.index)]]\n",
    "\n",
    "        if strategy==0:\n",
    "            backtest.loc[date_range,stockcode] = (backtest.loc[date_range,stockcode]) * strategy\n",
    "    startdate = date(min(all_year)+1,5,1)\n",
    "    enddate = date(max(all_year)+1,5,1) + timedelta(days=547)\n",
    "    period = all_ts.index[[select_date(date, startdate, enddate) for date in \n",
    "                                   list(all_ts.index)]]\n",
    "    \n",
    "    market = all_ts.loc[period,].mean(axis=1)/100\n",
    "    backtest = backtest.loc[period,].mean(axis=1)/100\n",
    "    market_cum = (market+1).cumprod()\n",
    "    backtest_cum = (backtest+1).cumprod()\n",
    "    plot_df = pd.DataFrame(data={'strategy': backtest_cum, 'market': market_cum})\n",
    "    plot_df.index = pd.to_datetime(plot_df.index)\n",
    "    plot_df.plot()\n",
    "    print(plot_df.iloc[-1])\n",
    "    print('difference sharpe: ', (backtest - market).mean() / (backtest - market).std() * 250**0.5 )\n",
    "    return backtest, market"
   ]
  },
  {
   "cell_type": "code",
   "execution_count": 167,
   "metadata": {},
   "outputs": [],
   "source": [
    "def get_predict(clf, X, thre):\n",
    "    predict_proba = clf.predict_proba(X)\n",
    "    predict_df = pd.DataFrame(data = predict_proba, columns = ['0_prob','1_prob'])\n",
    "    predict_default_index = X.index[predict_df['1_prob'] > thre]\n",
    "    predict = data.loc[predict_default_index, ['stockcode', 'report_period']]\n",
    "    return predict"
   ]
  },
  {
   "cell_type": "code",
   "execution_count": 208,
   "metadata": {},
   "outputs": [
    {
     "name": "stdout",
     "output_type": "stream",
     "text": [
      "strategy    1.571075\n",
      "market      1.540941\n",
      "Name: 2020-07-17 00:00:00, dtype: float64\n",
      "difference sharpe:  0.9781013444048138\n"
     ]
    },
    {
     "data": {
      "image/png": "[encoded data removed]",
      "text/plain": [
       "<Figure size 432x288 with 1 Axes>"
      ]
     },
     "metadata": {
      "needs_background": "light"
     },
     "output_type": "display_data"
    }
   ],
   "source": [
    "default_index = X.index[y==1]\n",
    "actual_default = data.loc[default_index, ['stockcode', 'report_period']]\n",
    "result = backtest(actual_default)"
   ]
  },
  {
   "cell_type": "code",
   "execution_count": 209,
   "metadata": {},
   "outputs": [
    {
     "data": {
      "text/plain": [
       "<matplotlib.axes._subplots.AxesSubplot at 0x7ffad77f3e48>"
      ]
     },
     "execution_count": 209,
     "metadata": {},
     "output_type": "execute_result"
    },
    {
     "data": {
      "image/png": "[encoded data removed]",
      "text/plain": [
       "<Figure size 432x288 with 1 Axes>"
      ]
     },
     "metadata": {
      "needs_background": "light"
     },
     "output_type": "display_data"
    }
   ],
   "source": [
    "((result[0]-result[1])+1).cumprod().plot()"
   ]
  },
  {
   "cell_type": "code",
   "execution_count": 234,
   "metadata": {},
   "outputs": [
    {
     "data": {
      "text/plain": [
       "1.0153336169293676"
      ]
     },
     "execution_count": 234,
     "metadata": {},
     "output_type": "execute_result"
    }
   ],
   "source": [
    "((result[0]-result[1])+1).cumprod().iloc[-1]"
   ]
  },
  {
   "cell_type": "code",
   "execution_count": 206,
   "metadata": {},
   "outputs": [
    {
     "name": "stdout",
     "output_type": "stream",
     "text": [
      "strategy    1.658754\n",
      "market      1.540941\n",
      "Name: 2020-07-17 00:00:00, dtype: float64\n",
      "difference sharpe:  0.08478446629135535\n"
     ]
    },
    {
     "data": {
      "image/png": "[encoded data removed]",
      "text/plain": [
       "<Figure size 432x288 with 1 Axes>"
      ]
     },
     "metadata": {
      "needs_background": "light"
     },
     "output_type": "display_data"
    }
   ],
   "source": [
    "rf_predict = get_predict(rf_gs, X, rf_thre)\n",
    "result = backtest(rf_predict)"
   ]
  },
  {
   "cell_type": "code",
   "execution_count": 207,
   "metadata": {},
   "outputs": [
    {
     "data": {
      "text/plain": [
       "<matplotlib.axes._subplots.AxesSubplot at 0x7ffb03a3e9e8>"
      ]
     },
     "execution_count": 207,
     "metadata": {},
     "output_type": "execute_result"
    },
    {
     "data": {
      "image/png": "[encoded data removed]",
      "text/plain": [
       "<Figure size 432x288 with 1 Axes>"
      ]
     },
     "metadata": {
      "needs_background": "light"
     },
     "output_type": "display_data"
    }
   ],
   "source": [
    "((result[0]-result[1])+1).cumprod().plot()"
   ]
  },
  {
   "cell_type": "code",
   "execution_count": 205,
   "metadata": {},
   "outputs": [
    {
     "name": "stdout",
     "output_type": "stream",
     "text": [
      "strategy    1.291560\n",
      "market      1.274234\n",
      "Name: 2020-07-17 00:00:00, dtype: float64\n",
      "difference sharpe:  0.08424256740166286\n"
     ]
    },
    {
     "data": {
      "image/png": "[encoded data removed]",
      "text/plain": [
       "<Figure size 432x288 with 1 Axes>"
      ]
     },
     "metadata": {
      "needs_background": "light"
     },
     "output_type": "display_data"
    }
   ],
   "source": [
    "rf_predict = get_predict(rf_gs, X_test, rf_thre)\n",
    "result = backtest(rf_predict)"
   ]
  },
  {
   "cell_type": "code",
   "execution_count": 233,
   "metadata": {},
   "outputs": [
    {
     "data": {
      "text/plain": [
       "1.5244472002434521"
      ]
     },
     "execution_count": 233,
     "metadata": {},
     "output_type": "execute_result"
    }
   ],
   "source": [
    "1.73**(1/1.3)"
   ]
  },
  {
   "cell_type": "code",
   "execution_count": 201,
   "metadata": {},
   "outputs": [
    {
     "data": {
      "text/plain": [
       "<matplotlib.axes._subplots.AxesSubplot at 0x7ffb31317ba8>"
      ]
     },
     "execution_count": 201,
     "metadata": {},
     "output_type": "execute_result"
    },
    {
     "data": {
      "image/png": "[encoded data removed]",
      "text/plain": [
       "<Figure size 432x288 with 1 Axes>"
      ]
     },
     "metadata": {
      "needs_background": "light"
     },
     "output_type": "display_data"
    }
   ],
   "source": [
    "((result[0]-result[1])+1).cumprod().plot()"
   ]
  }
 ],
 "metadata": {
  "kernelspec": {
   "display_name": "Python 3",
   "language": "python",
   "name": "python3"
  },
  "language_info": {
   "codemirror_mode": {
    "name": "ipython",
    "version": 3
   },
   "file_extension": ".py",
   "mimetype": "text/x-python",
   "name": "python",
   "nbconvert_exporter": "python",
   "pygments_lexer": "ipython3",
   "version": "3.7.3"
  }
 },
 "nbformat": 4,
 "nbformat_minor": 4
}
